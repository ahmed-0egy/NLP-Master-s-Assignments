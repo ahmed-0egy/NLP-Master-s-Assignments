{
  "nbformat": 4,
  "nbformat_minor": 0,
  "metadata": {
    "colab": {
      "provenance": [],
      "collapsed_sections": [
        "TVReews4StKE",
        "2_PxPVi_0Sur",
        "l4fj3l4TxnJh",
        "O1AAHGFQyQ22",
        "vcZ-RCV3479e",
        "OyaYt69Z4-yn",
        "py3GgRjS5E33",
        "buKckzgs9rdG",
        "DfZHu5Awj41W",
        "FZAXJPl6WVhJ",
        "N3Cqu_9p0lnL",
        "wOsV4Ww1Lk36",
        "Uj45oFKeLwF7",
        "rH615V8NrJvV",
        "A3oWL_1KVllA",
        "iUBfFiJewgZH",
        "Ak8bqJj9ietF"
      ],
      "toc_visible": true
    },
    "kernelspec": {
      "name": "python3",
      "display_name": "Python 3"
    },
    "language_info": {
      "name": "python"
    },
    "accelerator": "GPU",
    "gpuClass": "standard"
  },
  "cells": [
    {
      "cell_type": "markdown",
      "source": [
        "#library"
      ],
      "metadata": {
        "id": "TVReews4StKE"
      }
    },
    {
      "cell_type": "code",
      "execution_count": null,
      "metadata": {
        "id": "cyKMV2HdjtH8"
      },
      "outputs": [],
      "source": [
        "import pandas as pd\n",
        "from pandas.core.frame import DataFrame\n",
        "\n",
        "import numpy as np\n",
        "\n",
        "import requests\n",
        "import regex as re\n",
        "\n",
        "import random\n",
        "\n",
        "import nltk\n",
        "from nltk.corpus import gutenberg,stopwords\n",
        "from nltk.stem import PorterStemmer,WordNetLemmatizer\n",
        "from nltk.tokenize import word_tokenize\n",
        "from nltk.corpus import wordnet\n",
        "\n",
        "from sklearn.model_selection import train_test_split\n",
        "from sklearn.feature_extraction.text import TfidfVectorizer, TfidfTransformer, CountVectorizer\n",
        "from sklearn import feature_extraction, manifold\n",
        "from sklearn import decomposition\n",
        "\n",
        "import gensim\n",
        "import gensim.downloader as gensim_api\n",
        "from gensim.corpora import Dictionary\n",
        "\n",
        "import warnings\n",
        "warnings.filterwarnings(action='once')\n",
        "\n",
        "from sklearn.manifold import TSNE\n",
        "\n",
        "\n"
      ]
    },
    {
      "cell_type": "code",
      "source": [
        "nltk.download('punkt')\n",
        "nltk.download('averaged_perceptron_tagger')\n",
        "nltk.download('wordnet')\n",
        "nltk.download('omw-1.4')\n",
        "nltk.download('stopwords')"
      ],
      "metadata": {
        "colab": {
          "base_uri": "https://localhost:8080/"
        },
        "id": "JCtX88lqhwkT",
        "outputId": "297b5446-9fd5-4faf-81fc-38b93099ad49"
      },
      "execution_count": null,
      "outputs": [
        {
          "output_type": "stream",
          "name": "stderr",
          "text": [
            "[nltk_data] Downloading package punkt to /root/nltk_data...\n",
            "[nltk_data]   Unzipping tokenizers/punkt.zip.\n",
            "[nltk_data] Downloading package averaged_perceptron_tagger to\n",
            "[nltk_data]     /root/nltk_data...\n",
            "[nltk_data]   Unzipping taggers/averaged_perceptron_tagger.zip.\n",
            "[nltk_data] Downloading package wordnet to /root/nltk_data...\n",
            "[nltk_data]   Unzipping corpora/wordnet.zip.\n",
            "[nltk_data] Downloading package omw-1.4 to /root/nltk_data...\n",
            "[nltk_data]   Unzipping corpora/omw-1.4.zip.\n",
            "[nltk_data] Downloading package stopwords to /root/nltk_data...\n",
            "[nltk_data]   Unzipping corpora/stopwords.zip.\n"
          ]
        },
        {
          "output_type": "execute_result",
          "data": {
            "text/plain": [
              "True"
            ]
          },
          "metadata": {},
          "execution_count": 2
        }
      ]
    },
    {
      "cell_type": "code",
      "source": [
        "#word ebbedding dictionnary, takes about 1-4 mins(376 MB)\n",
        "nlp = gensim_api.load(\"glove-wiki-gigaword-100\") "
      ],
      "metadata": {
        "colab": {
          "base_uri": "https://localhost:8080/"
        },
        "id": "lxFkxIE9VA-B",
        "outputId": "cd29890a-4dee-4ac6-a197-1b9a32b88b13"
      },
      "execution_count": null,
      "outputs": [
        {
          "output_type": "stream",
          "name": "stdout",
          "text": [
            "[==================================================] 100.0% 128.1/128.1MB downloaded\n"
          ]
        },
        {
          "output_type": "stream",
          "name": "stderr",
          "text": [
            "/usr/local/lib/python3.7/dist-packages/smart_open/smart_open_lib.py:494: DeprecationWarning: This function is deprecated.  See https://github.com/RaRe-Technologies/smart_open/blob/develop/MIGRATING_FROM_OLDER_VERSIONS.rst for more information\n",
            "  warnings.warn(message, category=DeprecationWarning)\n"
          ]
        }
      ]
    },
    {
      "cell_type": "markdown",
      "source": [
        "# Data Partitioning"
      ],
      "metadata": {
        "id": "2_PxPVi_0Sur"
      }
    },
    {
      "cell_type": "markdown",
      "source": [
        "## ```partition()``` Devides the words list into 200 samples of 150 words each "
      ],
      "metadata": {
        "id": "FKlCWRi-xkOP"
      }
    },
    {
      "cell_type": "code",
      "source": [
        "def partition(words, book_label):\n",
        "  n = len(words) // 150  # How many 150-word partitions are there?\n",
        "  partitions =[]\n",
        "  i = 0\n",
        "\n",
        "  # Loop over the words to store each 150-word partition in a list inside partitions list\n",
        "  while i < n:\n",
        "    current = i*150\n",
        "    partitions.append([words[current:current+150], book_label])\n",
        "    i+=1\n",
        "\n",
        "\n",
        "  # return a dataframe of 200 samples\n",
        "  return DataFrame(partitions[:200], columns = ['words', 'Book_name'])\n"
      ],
      "metadata": {
        "id": "Ix8Y08WUZXbz"
      },
      "execution_count": null,
      "outputs": []
    },
    {
      "cell_type": "code",
      "source": [
        "def pos_tagger(nltk_tag):\n",
        "    if nltk_tag.startswith('J'):\n",
        "        return wordnet.ADJ\n",
        "    elif nltk_tag.startswith('V'):\n",
        "        return wordnet.VERB\n",
        "    elif nltk_tag.startswith('N'):\n",
        "        return wordnet.NOUN\n",
        "    elif nltk_tag.startswith('R'):\n",
        "        return wordnet.ADV\n",
        "    else:         \n",
        "        return None"
      ],
      "metadata": {
        "id": "7qY1WP2riLRr"
      },
      "execution_count": null,
      "outputs": []
    },
    {
      "cell_type": "markdown",
      "source": [
        "## data_preperation returns a clean list of words from a single book\n",
        "\n",
        "\n",
        "\n",
        "\n",
        "\n"
      ],
      "metadata": {
        "id": "l4fj3l4TxnJh"
      }
    },
    {
      "cell_type": "code",
      "source": [
        "stop_words = stopwords.words('english')\n",
        "def data_preperation (url):\n",
        "  #Getting data\n",
        "  response = requests.get(url)\n",
        "  text =response.text.lower()\n",
        "\n",
        "\n",
        "  #Data cleansing:\n",
        "  text = re.sub('[^a-z]+', ' ', text)\n",
        "\n",
        "  # p = re.compile(r'\\W+')\n",
        "  # words = p.split(text)\n",
        "\n",
        "  #Part of spech:\n",
        "  pos_tagged = nltk.pos_tag(nltk.word_tokenize(text)) \n",
        "  wordnet_tagged = list(map(lambda x: (x[0], pos_tagger(x[1])), pos_tagged))\n",
        "\n",
        "  lemmatizer  = WordNetLemmatizer()\n",
        "  #lemmatized = [lemmatizer.lemmatize(wrd[0], pos =  wrd[1]) for wrd in wordnet_tagged if wrd[1]!=None and wrd not in stop_words]\n",
        "  lemmatized_words = []\n",
        "  for wrd in wordnet_tagged:\n",
        "     #loop over the words and thier part of spech to lemmatize them\n",
        "    if wrd[1]!= None and wrd[0] not in stop_words :\n",
        "      if wrd[0][-3:] == 'ing': #to lemmatize a word even if it's a noun\n",
        "        pos = 'v'\n",
        "      else:\n",
        "        pos =  wrd[1]\n",
        "      #final = lemmatizer.lemmatize(wrd[0], pos =  pos)\n",
        "      if lemmatizer.lemmatize(wrd[0], pos =  pos) in nlp.vocab.keys():\n",
        "        lemmatized_words.append(lemmatizer.lemmatize(wrd[0], pos =  pos))\n",
        "\n",
        "  # Pass the words, ignoring the first 500 to avoid introductions.. \n",
        "  return lemmatized_words[500:]"
      ],
      "metadata": {
        "id": "dHm99xthDmlD"
      },
      "execution_count": null,
      "outputs": []
    },
    {
      "cell_type": "markdown",
      "source": [
        "## Data_generator"
      ],
      "metadata": {
        "id": "MA200USXx2A8"
      }
    },
    {
      "cell_type": "code",
      "source": [
        "def Data_generator(urls=['https://www.gutenberg.org/files/68054/68054-0.txt'], labelels = [\"a\"]):\n",
        "  # a dataframe to store samples from all of the books\n",
        "  big_frame = DataFrame() \n",
        "\n",
        "  for url, label in zip(urls, labelels):\n",
        "    words = data_preperation(url) #returns a list of words from a single book\n",
        "    x = partition(words, label) # Devides the words list into 200 samples of 100 words each\n",
        "    big_frame =pd.concat([big_frame, x]) # Append book samples to the big dataframe\n",
        "\n",
        "\n",
        "  return big_frame"
      ],
      "metadata": {
        "id": "v_fRzu2Qv3M7"
      },
      "execution_count": null,
      "outputs": []
    },
    {
      "cell_type": "markdown",
      "source": [
        "# ``` main ```  \n",
        "Passes two lists of books urls & labels to ```Data_generator```"
      ],
      "metadata": {
        "id": "O1AAHGFQyQ22"
      }
    },
    {
      "cell_type": "code",
      "source": [
        "#if __name__ == \"__main__\":\n",
        "# urls = ['https://www.gutenberg.org/cache/epub/18350/pg18350.txt', #1)Social Life in the Insect World, Author: J. H. Fabre\n",
        "#         'https://www.gutenberg.org/cache/epub/18931/pg18931.txt',  #2)Archeological Investigations, Author: Gerard Fowke\n",
        "#         'https://www.gutenberg.org/cache/epub/13058/pg13058.txt',   #3)The Teeth of the Tiger, Author: Maurice Leblanc\n",
        "#         'https://www.gutenberg.org/cache/epub/28056/pg28056.txt', #4)Music and Some Highly Musical People, Author: James M. Trotter\n",
        "#         'https://www.gutenberg.org/cache/epub/21687/pg21687.txt', #)The Youngest Girl in the Fifth, Author: Angela Brazil\n",
        "#         ]\n",
        "urls = ['https://www.gutenberg.org/files/17321/17321-0.txt', #1)Social Life in the Insect World, Author: J. H. Fabre\n",
        "        'https://www.gutenberg.org/cache/epub/22775/pg22775.txt',  #2)Archeological Investigations, Author: Gerard Fowke\n",
        "        'https://www.gutenberg.org/cache/epub/10136/pg10136.txt',   #3)The Teeth of the Tiger, Author: Maurice Leblanc\n",
        "        'https://www.gutenberg.org/cache/epub/28056/pg28056.txt', #4)Music and Some Highly Musical People, Author: James M. Trotter\n",
        "        'https://www.gutenberg.org/cache/epub/51854/pg51854.txt', #)The Youngest Girl in the Fifth, Author: Angela Brazil\n",
        "        ]\n",
        "labelels = [\"a\", \"b\", \"c\", \"d\", \"e\"]\n",
        "\n",
        "df = Data_generator(urls, labelels).sample(frac=1).reset_index(drop=True)"
      ],
      "metadata": {
        "id": "9XfC68StIq_b"
      },
      "execution_count": null,
      "outputs": []
    },
    {
      "cell_type": "code",
      "source": [
        "df"
      ],
      "metadata": {
        "id": "utr3OQGisGz8",
        "colab": {
          "base_uri": "https://localhost:8080/"
        },
        "outputId": "da9824cb-0c43-406e-e44e-ac963973052c"
      },
      "execution_count": null,
      "outputs": [
        {
          "output_type": "execute_result",
          "data": {
            "text/plain": [
              "                                                 words Book_name\n",
              "0    [ear, come, remark, authoritatively, say, good...         e\n",
              "1    [question, record, grant, certain, property, d...         a\n",
              "2    [remainder, stock, simmer, hour, rub, tammy, p...         c\n",
              "3    [genius, burn, brightly, soul, young, boy, cle...         d\n",
              "4    [house, limit, make, war, roosevelt, die, see,...         e\n",
              "..                                                 ...       ...\n",
              "995  [exactly, degree, reach, advice, give, nothing...         b\n",
              "996  [look, private, life, business, germaine, virg...         e\n",
              "997  [text, begin, similar, sumerian, babylonian, s...         a\n",
              "998  [make, rapid, progress, become, favorite, pupi...         d\n",
              "999  [actually, bury, pyramid, hawara, pyramid, ii,...         a\n",
              "\n",
              "[1000 rows x 2 columns]"
            ],
            "text/html": [
              "\n",
              "  <div id=\"df-5c8530d9-bfef-450f-a279-92ddef6bc89a\">\n",
              "    <div class=\"colab-df-container\">\n",
              "      <div>\n",
              "<style scoped>\n",
              "    .dataframe tbody tr th:only-of-type {\n",
              "        vertical-align: middle;\n",
              "    }\n",
              "\n",
              "    .dataframe tbody tr th {\n",
              "        vertical-align: top;\n",
              "    }\n",
              "\n",
              "    .dataframe thead th {\n",
              "        text-align: right;\n",
              "    }\n",
              "</style>\n",
              "<table border=\"1\" class=\"dataframe\">\n",
              "  <thead>\n",
              "    <tr style=\"text-align: right;\">\n",
              "      <th></th>\n",
              "      <th>words</th>\n",
              "      <th>Book_name</th>\n",
              "    </tr>\n",
              "  </thead>\n",
              "  <tbody>\n",
              "    <tr>\n",
              "      <th>0</th>\n",
              "      <td>[ear, come, remark, authoritatively, say, good...</td>\n",
              "      <td>e</td>\n",
              "    </tr>\n",
              "    <tr>\n",
              "      <th>1</th>\n",
              "      <td>[question, record, grant, certain, property, d...</td>\n",
              "      <td>a</td>\n",
              "    </tr>\n",
              "    <tr>\n",
              "      <th>2</th>\n",
              "      <td>[remainder, stock, simmer, hour, rub, tammy, p...</td>\n",
              "      <td>c</td>\n",
              "    </tr>\n",
              "    <tr>\n",
              "      <th>3</th>\n",
              "      <td>[genius, burn, brightly, soul, young, boy, cle...</td>\n",
              "      <td>d</td>\n",
              "    </tr>\n",
              "    <tr>\n",
              "      <th>4</th>\n",
              "      <td>[house, limit, make, war, roosevelt, die, see,...</td>\n",
              "      <td>e</td>\n",
              "    </tr>\n",
              "    <tr>\n",
              "      <th>...</th>\n",
              "      <td>...</td>\n",
              "      <td>...</td>\n",
              "    </tr>\n",
              "    <tr>\n",
              "      <th>995</th>\n",
              "      <td>[exactly, degree, reach, advice, give, nothing...</td>\n",
              "      <td>b</td>\n",
              "    </tr>\n",
              "    <tr>\n",
              "      <th>996</th>\n",
              "      <td>[look, private, life, business, germaine, virg...</td>\n",
              "      <td>e</td>\n",
              "    </tr>\n",
              "    <tr>\n",
              "      <th>997</th>\n",
              "      <td>[text, begin, similar, sumerian, babylonian, s...</td>\n",
              "      <td>a</td>\n",
              "    </tr>\n",
              "    <tr>\n",
              "      <th>998</th>\n",
              "      <td>[make, rapid, progress, become, favorite, pupi...</td>\n",
              "      <td>d</td>\n",
              "    </tr>\n",
              "    <tr>\n",
              "      <th>999</th>\n",
              "      <td>[actually, bury, pyramid, hawara, pyramid, ii,...</td>\n",
              "      <td>a</td>\n",
              "    </tr>\n",
              "  </tbody>\n",
              "</table>\n",
              "<p>1000 rows × 2 columns</p>\n",
              "</div>\n",
              "      <button class=\"colab-df-convert\" onclick=\"convertToInteractive('df-5c8530d9-bfef-450f-a279-92ddef6bc89a')\"\n",
              "              title=\"Convert this dataframe to an interactive table.\"\n",
              "              style=\"display:none;\">\n",
              "        \n",
              "  <svg xmlns=\"http://www.w3.org/2000/svg\" height=\"24px\"viewBox=\"0 0 24 24\"\n",
              "       width=\"24px\">\n",
              "    <path d=\"M0 0h24v24H0V0z\" fill=\"none\"/>\n",
              "    <path d=\"M18.56 5.44l.94 2.06.94-2.06 2.06-.94-2.06-.94-.94-2.06-.94 2.06-2.06.94zm-11 1L8.5 8.5l.94-2.06 2.06-.94-2.06-.94L8.5 2.5l-.94 2.06-2.06.94zm10 10l.94 2.06.94-2.06 2.06-.94-2.06-.94-.94-2.06-.94 2.06-2.06.94z\"/><path d=\"M17.41 7.96l-1.37-1.37c-.4-.4-.92-.59-1.43-.59-.52 0-1.04.2-1.43.59L10.3 9.45l-7.72 7.72c-.78.78-.78 2.05 0 2.83L4 21.41c.39.39.9.59 1.41.59.51 0 1.02-.2 1.41-.59l7.78-7.78 2.81-2.81c.8-.78.8-2.07 0-2.86zM5.41 20L4 18.59l7.72-7.72 1.47 1.35L5.41 20z\"/>\n",
              "  </svg>\n",
              "      </button>\n",
              "      \n",
              "  <style>\n",
              "    .colab-df-container {\n",
              "      display:flex;\n",
              "      flex-wrap:wrap;\n",
              "      gap: 12px;\n",
              "    }\n",
              "\n",
              "    .colab-df-convert {\n",
              "      background-color: #E8F0FE;\n",
              "      border: none;\n",
              "      border-radius: 50%;\n",
              "      cursor: pointer;\n",
              "      display: none;\n",
              "      fill: #1967D2;\n",
              "      height: 32px;\n",
              "      padding: 0 0 0 0;\n",
              "      width: 32px;\n",
              "    }\n",
              "\n",
              "    .colab-df-convert:hover {\n",
              "      background-color: #E2EBFA;\n",
              "      box-shadow: 0px 1px 2px rgba(60, 64, 67, 0.3), 0px 1px 3px 1px rgba(60, 64, 67, 0.15);\n",
              "      fill: #174EA6;\n",
              "    }\n",
              "\n",
              "    [theme=dark] .colab-df-convert {\n",
              "      background-color: #3B4455;\n",
              "      fill: #D2E3FC;\n",
              "    }\n",
              "\n",
              "    [theme=dark] .colab-df-convert:hover {\n",
              "      background-color: #434B5C;\n",
              "      box-shadow: 0px 1px 3px 1px rgba(0, 0, 0, 0.15);\n",
              "      filter: drop-shadow(0px 1px 2px rgba(0, 0, 0, 0.3));\n",
              "      fill: #FFFFFF;\n",
              "    }\n",
              "  </style>\n",
              "\n",
              "      <script>\n",
              "        const buttonEl =\n",
              "          document.querySelector('#df-5c8530d9-bfef-450f-a279-92ddef6bc89a button.colab-df-convert');\n",
              "        buttonEl.style.display =\n",
              "          google.colab.kernel.accessAllowed ? 'block' : 'none';\n",
              "\n",
              "        async function convertToInteractive(key) {\n",
              "          const element = document.querySelector('#df-5c8530d9-bfef-450f-a279-92ddef6bc89a');\n",
              "          const dataTable =\n",
              "            await google.colab.kernel.invokeFunction('convertToInteractive',\n",
              "                                                     [key], {});\n",
              "          if (!dataTable) return;\n",
              "\n",
              "          const docLinkHtml = 'Like what you see? Visit the ' +\n",
              "            '<a target=\"_blank\" href=https://colab.research.google.com/notebooks/data_table.ipynb>data table notebook</a>'\n",
              "            + ' to learn more about interactive tables.';\n",
              "          element.innerHTML = '';\n",
              "          dataTable['output_type'] = 'display_data';\n",
              "          await google.colab.output.renderOutput(dataTable, element);\n",
              "          const docLink = document.createElement('div');\n",
              "          docLink.innerHTML = docLinkHtml;\n",
              "          element.appendChild(docLink);\n",
              "        }\n",
              "      </script>\n",
              "    </div>\n",
              "  </div>\n",
              "  "
            ]
          },
          "metadata": {},
          "execution_count": 9
        }
      ]
    },
    {
      "cell_type": "markdown",
      "source": [
        "#Data Transformers"
      ],
      "metadata": {
        "id": "b9-wpPUczoBE"
      }
    },
    {
      "cell_type": "markdown",
      "source": [
        "### BOW"
      ],
      "metadata": {
        "id": "vcZ-RCV3479e"
      }
    },
    {
      "cell_type": "code",
      "source": [
        "paragraph=\" \"\n",
        "paragraph_list=[]\n",
        "for x in df['words']:\n",
        "    paragraph=paragraph.join(x) \n",
        "    paragraph_list.append(paragraph)\n",
        "    paragraph=\" \"\n",
        "#paragraph_list =paragraph_list + paragraph_list\n",
        "len(paragraph_list)"
      ],
      "metadata": {
        "id": "6mNhdNpl1XYO",
        "colab": {
          "base_uri": "https://localhost:8080/"
        },
        "outputId": "5387fc2e-04e6-4289-9003-882e413fa872"
      },
      "execution_count": null,
      "outputs": [
        {
          "output_type": "execute_result",
          "data": {
            "text/plain": [
              "1000"
            ]
          },
          "metadata": {},
          "execution_count": 10
        }
      ]
    },
    {
      "cell_type": "code",
      "source": [
        "def BOW(sentences_book):\n",
        "  count_vect = CountVectorizer()\n",
        "  X_train_counts = count_vect.fit_transform(sentences_book).toarray()\n",
        "  \n",
        "  return X_train_counts"
      ],
      "metadata": {
        "id": "kkA8be6yzOiO"
      },
      "execution_count": null,
      "outputs": []
    },
    {
      "cell_type": "markdown",
      "source": [
        "###TF-IDF"
      ],
      "metadata": {
        "id": "OyaYt69Z4-yn"
      }
    },
    {
      "cell_type": "code",
      "source": [
        "def TF_IDF(X_train_counts):\n",
        "  tf_transformer = TfidfTransformer(use_idf=False).fit(X_train_counts)\n",
        "  X_train_tf = tf_transformer.transform(X_train_counts).toarray()\n",
        "  \n",
        "  return X_train_tf"
      ],
      "metadata": {
        "id": "D01M4B1iznA2"
      },
      "execution_count": null,
      "outputs": []
    },
    {
      "cell_type": "markdown",
      "source": [
        "###LDA"
      ],
      "metadata": {
        "id": "py3GgRjS5E33"
      }
    },
    {
      "cell_type": "code",
      "source": [
        "dictionary = Dictionary(df['words'])\n",
        "bow_ = [dictionary.doc2bow(partition) for partition in df['words']]  # bag of words for each partition\n",
        "example = pd.DataFrame(bow_[10], columns=[\"token_id\", \"frequency\"])\n",
        "\n",
        "def lda_training(n_topics, dictionary):\n",
        "  lda_model = gensim.models.LdaModel(bow_,\n",
        "               id2word = dictionary,\n",
        "               num_topics = n_topics,\n",
        "               random_state = 100,\n",
        "               passes = 50,\n",
        "               iterations = 500, \n",
        "               chunksize = 100\n",
        "               )\n",
        "  coherence_lda = gensim.models.coherencemodel.CoherenceModel(model=lda_model, texts=df['words'], dictionary=dictionary , coherence='c_v')\n",
        "  coherence_lda = coherence_lda.get_coherence()\n",
        "  print('\\nCoherence Score: ', coherence_lda)\n",
        "  print(lda_model.print_topics())\n",
        "  return lda_model"
      ],
      "metadata": {
        "id": "599gN5MAzscl"
      },
      "execution_count": null,
      "outputs": []
    },
    {
      "cell_type": "code",
      "source": [
        "lda1 = lda_training(n_topics = 10,dictionary = dictionary)"
      ],
      "metadata": {
        "id": "xspr_q_9z2Gt",
        "colab": {
          "base_uri": "https://localhost:8080/"
        },
        "outputId": "a1b6eb9b-9fe0-45c3-a172-1c17949ecb30"
      },
      "execution_count": null,
      "outputs": [
        {
          "output_type": "stream",
          "name": "stderr",
          "text": [
            "/usr/local/lib/python3.7/dist-packages/gensim/models/ldamodel.py:1077: DeprecationWarning: Calling np.sum(generator) is deprecated, and in the future will give a different result. Use np.sum(np.fromiter(generator)) or the python sum builtin instead.\n",
            "  score += np.sum(cnt * logsumexp(Elogthetad + Elogbeta[:, int(id)]) for id, cnt in doc)\n"
          ]
        },
        {
          "output_type": "stream",
          "name": "stdout",
          "text": [
            "\n",
            "Coherence Score:  0.6122770289965505\n",
            "[(0, '0.015*\"king\" + 0.013*\"early\" + 0.012*\"find\" + 0.012*\"dynasty\" + 0.010*\"period\" + 0.010*\"name\" + 0.009*\"egyptian\" + 0.008*\"great\" + 0.007*\"egypt\" + 0.006*\"time\"'), (1, '0.039*\"mental\" + 0.026*\"brain\" + 0.017*\"patient\" + 0.016*\"idea\" + 0.015*\"process\" + 0.015*\"mind\" + 0.013*\"experience\" + 0.012*\"physical\" + 0.011*\"disturbance\" + 0.011*\"disease\"'), (2, '0.013*\"water\" + 0.013*\"soup\" + 0.013*\"hour\" + 0.012*\"stock\" + 0.011*\"quart\" + 0.010*\"time\" + 0.010*\"put\" + 0.009*\"meat\" + 0.009*\"boil\" + 0.008*\"add\"'), (3, '0.015*\"sauce\" + 0.013*\"boil\" + 0.011*\"make\" + 0.011*\"carve\" + 0.011*\"cook\" + 0.011*\"roast\" + 0.011*\"pudding\" + 0.009*\"dress\" + 0.009*\"dish\" + 0.009*\"bake\"'), (4, '0.007*\"thus\" + 0.007*\"even\" + 0.006*\"work\" + 0.006*\"life\" + 0.006*\"musical\" + 0.006*\"time\" + 0.006*\"give\" + 0.006*\"state\" + 0.006*\"mean\" + 0.006*\"become\"'), (5, '0.017*\"sumerian\" + 0.016*\"psychology\" + 0.015*\"life\" + 0.014*\"psychological\" + 0.013*\"view\" + 0.010*\"causal\" + 0.010*\"fact\" + 0.010*\"p\" + 0.010*\"psychotherapy\" + 0.009*\"aim\"'), (6, '0.024*\"say\" + 0.019*\"tell\" + 0.017*\"get\" + 0.014*\"know\" + 0.014*\"go\" + 0.014*\"mr\" + 0.012*\"see\" + 0.011*\"tompkins\" + 0.011*\"ask\" + 0.008*\"winnie\"'), (7, '0.013*\"f\" + 0.009*\"mound\" + 0.008*\"dr\" + 0.008*\"b\" + 0.007*\"excavation\" + 0.007*\"ponto\" + 0.007*\"eye\" + 0.007*\"old\" + 0.006*\"report\" + 0.006*\"milk\"'), (8, '0.027*\"music\" + 0.014*\"mr\" + 0.011*\"voice\" + 0.011*\"miss\" + 0.011*\"sing\" + 0.010*\"great\" + 0.010*\"give\" + 0.008*\"concert\" + 0.008*\"lady\" + 0.007*\"say\"'), (9, '0.020*\"god\" + 0.018*\"temple\" + 0.012*\"great\" + 0.010*\"city\" + 0.010*\"gudea\" + 0.006*\"writer\" + 0.006*\"sacred\" + 0.006*\"holland\" + 0.006*\"goddess\" + 0.006*\"e\"')]\n"
          ]
        }
      ]
    },
    {
      "cell_type": "code",
      "source": [
        "def feature_vectorize(lda):\n",
        "\n",
        "  # Convert target column from string to numbers \n",
        "  df.Book_name = pd.Categorical(df.Book_name)\n",
        "  df['Book_name'] = df.Book_name.cat.codes\n",
        "\n",
        "  \n",
        "  train_vecs = []\n",
        "  for i in range(len(df['words'])):\n",
        "    top_topics = lda.get_document_topics(bow_[i], minimum_probability = 0.0)\n",
        "    topic_vec = [top_topics[i][1] for i in range(len(lda.print_topics()))]\n",
        "    train_vecs.append(topic_vec)\n",
        "\n",
        "  features = pd.DataFrame(train_vecs)\n",
        "  lda_data = features.join(df[\"Book_name\"])#.sample(frac = 1)\n",
        "\n",
        "  lda_x = lda_data[lda_data.columns[:-1]]\n",
        "  lda_y = pd.DataFrame(lda_data[lda_data.columns[-1]])\n",
        "  return lda_data, lda_x, lda_y"
      ],
      "metadata": {
        "id": "DrMFaigzz9V-"
      },
      "execution_count": null,
      "outputs": []
    },
    {
      "cell_type": "markdown",
      "source": [
        "###Word Embedding"
      ],
      "metadata": {
        "id": "buKckzgs9rdG"
      }
    },
    {
      "cell_type": "code",
      "source": [
        "def word_embidding():\n",
        "  reduction = []\n",
        "  for i in range(0, 1000):\n",
        "    #transform each word to a vec\n",
        "    doc2vec = nlp[df['words'].iloc[i]]\n",
        "\n",
        "    #reduce the dimensions from 300 to 2\n",
        "    pca = decomposition.PCA(n_components=50)\n",
        "    reduction.append(doc2vec)\n",
        "\n",
        "  we_array = np.array(reduction).reshape(1000, 100*150)  \n",
        "  return pd.DataFrame(we_array)"
      ],
      "metadata": {
        "id": "0WK8n5njHTmx"
      },
      "execution_count": null,
      "outputs": []
    },
    {
      "cell_type": "markdown",
      "source": [
        "## Implement transformations "
      ],
      "metadata": {
        "id": "DfZHu5Awj41W"
      }
    },
    {
      "cell_type": "code",
      "source": [
        "X_train_counts= BOW(paragraph_list)\n",
        "X_train_tf= TF_IDF(X_train_counts)\n",
        "# x_train_ngram=Ngram(paragraph_list)\n",
        "lda_data, lda_x, lda_y = feature_vectorize(lda1)\n",
        "X_train_we = word_embidding()"
      ],
      "metadata": {
        "id": "vgnMMmY51kae"
      },
      "execution_count": null,
      "outputs": []
    },
    {
      "cell_type": "code",
      "source": [
        "lda_x"
      ],
      "metadata": {
        "id": "bW3JZwSrdxx9",
        "colab": {
          "base_uri": "https://localhost:8080/"
        },
        "outputId": "ae9a4526-8159-4ab9-b9f2-2e7b2bf01c40"
      },
      "execution_count": null,
      "outputs": [
        {
          "output_type": "execute_result",
          "data": {
            "text/plain": [
              "            0         1         2         3         4         5         6  \\\n",
              "0    0.000662  0.180973  0.000662  0.023051  0.000662  0.000662  0.692901   \n",
              "1    0.910998  0.000663  0.012357  0.000663  0.054453  0.000662  0.000662   \n",
              "2    0.000662  0.000662  0.887298  0.000662  0.071344  0.010471  0.000662   \n",
              "3    0.000662  0.000662  0.000662  0.007794  0.714808  0.000662  0.000662   \n",
              "4    0.000662  0.000663  0.044111  0.000662  0.134099  0.000662  0.817153   \n",
              "..        ...       ...       ...       ...       ...       ...       ...   \n",
              "995  0.020196  0.144696  0.028968  0.007553  0.714576  0.000662  0.000663   \n",
              "996  0.017190  0.030846  0.041525  0.009077  0.255105  0.000663  0.544039   \n",
              "997  0.578319  0.000662  0.017186  0.000662  0.100862  0.276647  0.000662   \n",
              "998  0.060336  0.000662  0.083359  0.019817  0.425021  0.000662  0.033255   \n",
              "999  0.702207  0.009356  0.058699  0.000662  0.092280  0.000662  0.010564   \n",
              "\n",
              "            7         8         9  \n",
              "0    0.072249  0.018457  0.009721  \n",
              "1    0.000662  0.018217  0.000662  \n",
              "2    0.000662  0.026914  0.000662  \n",
              "3    0.000662  0.242295  0.031128  \n",
              "4    0.000662  0.000662  0.000662  \n",
              "..        ...       ...       ...  \n",
              "995  0.023502  0.023946  0.035239  \n",
              "996  0.047968  0.046065  0.007523  \n",
              "997  0.000662  0.023674  0.000662  \n",
              "998  0.000662  0.299679  0.076546  \n",
              "999  0.048385  0.055543  0.021642  \n",
              "\n",
              "[1000 rows x 10 columns]"
            ],
            "text/html": [
              "\n",
              "  <div id=\"df-74d00541-ed16-4c8a-bda6-a982221b7329\">\n",
              "    <div class=\"colab-df-container\">\n",
              "      <div>\n",
              "<style scoped>\n",
              "    .dataframe tbody tr th:only-of-type {\n",
              "        vertical-align: middle;\n",
              "    }\n",
              "\n",
              "    .dataframe tbody tr th {\n",
              "        vertical-align: top;\n",
              "    }\n",
              "\n",
              "    .dataframe thead th {\n",
              "        text-align: right;\n",
              "    }\n",
              "</style>\n",
              "<table border=\"1\" class=\"dataframe\">\n",
              "  <thead>\n",
              "    <tr style=\"text-align: right;\">\n",
              "      <th></th>\n",
              "      <th>0</th>\n",
              "      <th>1</th>\n",
              "      <th>2</th>\n",
              "      <th>3</th>\n",
              "      <th>4</th>\n",
              "      <th>5</th>\n",
              "      <th>6</th>\n",
              "      <th>7</th>\n",
              "      <th>8</th>\n",
              "      <th>9</th>\n",
              "    </tr>\n",
              "  </thead>\n",
              "  <tbody>\n",
              "    <tr>\n",
              "      <th>0</th>\n",
              "      <td>0.000662</td>\n",
              "      <td>0.180973</td>\n",
              "      <td>0.000662</td>\n",
              "      <td>0.023051</td>\n",
              "      <td>0.000662</td>\n",
              "      <td>0.000662</td>\n",
              "      <td>0.692901</td>\n",
              "      <td>0.072249</td>\n",
              "      <td>0.018457</td>\n",
              "      <td>0.009721</td>\n",
              "    </tr>\n",
              "    <tr>\n",
              "      <th>1</th>\n",
              "      <td>0.910998</td>\n",
              "      <td>0.000663</td>\n",
              "      <td>0.012357</td>\n",
              "      <td>0.000663</td>\n",
              "      <td>0.054453</td>\n",
              "      <td>0.000662</td>\n",
              "      <td>0.000662</td>\n",
              "      <td>0.000662</td>\n",
              "      <td>0.018217</td>\n",
              "      <td>0.000662</td>\n",
              "    </tr>\n",
              "    <tr>\n",
              "      <th>2</th>\n",
              "      <td>0.000662</td>\n",
              "      <td>0.000662</td>\n",
              "      <td>0.887298</td>\n",
              "      <td>0.000662</td>\n",
              "      <td>0.071344</td>\n",
              "      <td>0.010471</td>\n",
              "      <td>0.000662</td>\n",
              "      <td>0.000662</td>\n",
              "      <td>0.026914</td>\n",
              "      <td>0.000662</td>\n",
              "    </tr>\n",
              "    <tr>\n",
              "      <th>3</th>\n",
              "      <td>0.000662</td>\n",
              "      <td>0.000662</td>\n",
              "      <td>0.000662</td>\n",
              "      <td>0.007794</td>\n",
              "      <td>0.714808</td>\n",
              "      <td>0.000662</td>\n",
              "      <td>0.000662</td>\n",
              "      <td>0.000662</td>\n",
              "      <td>0.242295</td>\n",
              "      <td>0.031128</td>\n",
              "    </tr>\n",
              "    <tr>\n",
              "      <th>4</th>\n",
              "      <td>0.000662</td>\n",
              "      <td>0.000663</td>\n",
              "      <td>0.044111</td>\n",
              "      <td>0.000662</td>\n",
              "      <td>0.134099</td>\n",
              "      <td>0.000662</td>\n",
              "      <td>0.817153</td>\n",
              "      <td>0.000662</td>\n",
              "      <td>0.000662</td>\n",
              "      <td>0.000662</td>\n",
              "    </tr>\n",
              "    <tr>\n",
              "      <th>...</th>\n",
              "      <td>...</td>\n",
              "      <td>...</td>\n",
              "      <td>...</td>\n",
              "      <td>...</td>\n",
              "      <td>...</td>\n",
              "      <td>...</td>\n",
              "      <td>...</td>\n",
              "      <td>...</td>\n",
              "      <td>...</td>\n",
              "      <td>...</td>\n",
              "    </tr>\n",
              "    <tr>\n",
              "      <th>995</th>\n",
              "      <td>0.020196</td>\n",
              "      <td>0.144696</td>\n",
              "      <td>0.028968</td>\n",
              "      <td>0.007553</td>\n",
              "      <td>0.714576</td>\n",
              "      <td>0.000662</td>\n",
              "      <td>0.000663</td>\n",
              "      <td>0.023502</td>\n",
              "      <td>0.023946</td>\n",
              "      <td>0.035239</td>\n",
              "    </tr>\n",
              "    <tr>\n",
              "      <th>996</th>\n",
              "      <td>0.017190</td>\n",
              "      <td>0.030846</td>\n",
              "      <td>0.041525</td>\n",
              "      <td>0.009077</td>\n",
              "      <td>0.255105</td>\n",
              "      <td>0.000663</td>\n",
              "      <td>0.544039</td>\n",
              "      <td>0.047968</td>\n",
              "      <td>0.046065</td>\n",
              "      <td>0.007523</td>\n",
              "    </tr>\n",
              "    <tr>\n",
              "      <th>997</th>\n",
              "      <td>0.578319</td>\n",
              "      <td>0.000662</td>\n",
              "      <td>0.017186</td>\n",
              "      <td>0.000662</td>\n",
              "      <td>0.100862</td>\n",
              "      <td>0.276647</td>\n",
              "      <td>0.000662</td>\n",
              "      <td>0.000662</td>\n",
              "      <td>0.023674</td>\n",
              "      <td>0.000662</td>\n",
              "    </tr>\n",
              "    <tr>\n",
              "      <th>998</th>\n",
              "      <td>0.060336</td>\n",
              "      <td>0.000662</td>\n",
              "      <td>0.083359</td>\n",
              "      <td>0.019817</td>\n",
              "      <td>0.425021</td>\n",
              "      <td>0.000662</td>\n",
              "      <td>0.033255</td>\n",
              "      <td>0.000662</td>\n",
              "      <td>0.299679</td>\n",
              "      <td>0.076546</td>\n",
              "    </tr>\n",
              "    <tr>\n",
              "      <th>999</th>\n",
              "      <td>0.702207</td>\n",
              "      <td>0.009356</td>\n",
              "      <td>0.058699</td>\n",
              "      <td>0.000662</td>\n",
              "      <td>0.092280</td>\n",
              "      <td>0.000662</td>\n",
              "      <td>0.010564</td>\n",
              "      <td>0.048385</td>\n",
              "      <td>0.055543</td>\n",
              "      <td>0.021642</td>\n",
              "    </tr>\n",
              "  </tbody>\n",
              "</table>\n",
              "<p>1000 rows × 10 columns</p>\n",
              "</div>\n",
              "      <button class=\"colab-df-convert\" onclick=\"convertToInteractive('df-74d00541-ed16-4c8a-bda6-a982221b7329')\"\n",
              "              title=\"Convert this dataframe to an interactive table.\"\n",
              "              style=\"display:none;\">\n",
              "        \n",
              "  <svg xmlns=\"http://www.w3.org/2000/svg\" height=\"24px\"viewBox=\"0 0 24 24\"\n",
              "       width=\"24px\">\n",
              "    <path d=\"M0 0h24v24H0V0z\" fill=\"none\"/>\n",
              "    <path d=\"M18.56 5.44l.94 2.06.94-2.06 2.06-.94-2.06-.94-.94-2.06-.94 2.06-2.06.94zm-11 1L8.5 8.5l.94-2.06 2.06-.94-2.06-.94L8.5 2.5l-.94 2.06-2.06.94zm10 10l.94 2.06.94-2.06 2.06-.94-2.06-.94-.94-2.06-.94 2.06-2.06.94z\"/><path d=\"M17.41 7.96l-1.37-1.37c-.4-.4-.92-.59-1.43-.59-.52 0-1.04.2-1.43.59L10.3 9.45l-7.72 7.72c-.78.78-.78 2.05 0 2.83L4 21.41c.39.39.9.59 1.41.59.51 0 1.02-.2 1.41-.59l7.78-7.78 2.81-2.81c.8-.78.8-2.07 0-2.86zM5.41 20L4 18.59l7.72-7.72 1.47 1.35L5.41 20z\"/>\n",
              "  </svg>\n",
              "      </button>\n",
              "      \n",
              "  <style>\n",
              "    .colab-df-container {\n",
              "      display:flex;\n",
              "      flex-wrap:wrap;\n",
              "      gap: 12px;\n",
              "    }\n",
              "\n",
              "    .colab-df-convert {\n",
              "      background-color: #E8F0FE;\n",
              "      border: none;\n",
              "      border-radius: 50%;\n",
              "      cursor: pointer;\n",
              "      display: none;\n",
              "      fill: #1967D2;\n",
              "      height: 32px;\n",
              "      padding: 0 0 0 0;\n",
              "      width: 32px;\n",
              "    }\n",
              "\n",
              "    .colab-df-convert:hover {\n",
              "      background-color: #E2EBFA;\n",
              "      box-shadow: 0px 1px 2px rgba(60, 64, 67, 0.3), 0px 1px 3px 1px rgba(60, 64, 67, 0.15);\n",
              "      fill: #174EA6;\n",
              "    }\n",
              "\n",
              "    [theme=dark] .colab-df-convert {\n",
              "      background-color: #3B4455;\n",
              "      fill: #D2E3FC;\n",
              "    }\n",
              "\n",
              "    [theme=dark] .colab-df-convert:hover {\n",
              "      background-color: #434B5C;\n",
              "      box-shadow: 0px 1px 3px 1px rgba(0, 0, 0, 0.15);\n",
              "      filter: drop-shadow(0px 1px 2px rgba(0, 0, 0, 0.3));\n",
              "      fill: #FFFFFF;\n",
              "    }\n",
              "  </style>\n",
              "\n",
              "      <script>\n",
              "        const buttonEl =\n",
              "          document.querySelector('#df-74d00541-ed16-4c8a-bda6-a982221b7329 button.colab-df-convert');\n",
              "        buttonEl.style.display =\n",
              "          google.colab.kernel.accessAllowed ? 'block' : 'none';\n",
              "\n",
              "        async function convertToInteractive(key) {\n",
              "          const element = document.querySelector('#df-74d00541-ed16-4c8a-bda6-a982221b7329');\n",
              "          const dataTable =\n",
              "            await google.colab.kernel.invokeFunction('convertToInteractive',\n",
              "                                                     [key], {});\n",
              "          if (!dataTable) return;\n",
              "\n",
              "          const docLinkHtml = 'Like what you see? Visit the ' +\n",
              "            '<a target=\"_blank\" href=https://colab.research.google.com/notebooks/data_table.ipynb>data table notebook</a>'\n",
              "            + ' to learn more about interactive tables.';\n",
              "          element.innerHTML = '';\n",
              "          dataTable['output_type'] = 'display_data';\n",
              "          await google.colab.output.renderOutput(dataTable, element);\n",
              "          const docLink = document.createElement('div');\n",
              "          docLink.innerHTML = docLinkHtml;\n",
              "          element.appendChild(docLink);\n",
              "        }\n",
              "      </script>\n",
              "    </div>\n",
              "  </div>\n",
              "  "
            ]
          },
          "metadata": {},
          "execution_count": 18
        }
      ]
    },
    {
      "cell_type": "code",
      "source": [
        "lda_x"
      ],
      "metadata": {
        "id": "Q68a0ERbiRxV",
        "colab": {
          "base_uri": "https://localhost:8080/"
        },
        "outputId": "1b435b6e-dbe0-4d1a-a871-cef6eae7dcf7"
      },
      "execution_count": null,
      "outputs": [
        {
          "output_type": "execute_result",
          "data": {
            "text/plain": [
              "            0         1         2         3         4         5         6  \\\n",
              "0    0.000662  0.180973  0.000662  0.023051  0.000662  0.000662  0.692901   \n",
              "1    0.910998  0.000663  0.012357  0.000663  0.054453  0.000662  0.000662   \n",
              "2    0.000662  0.000662  0.887298  0.000662  0.071344  0.010471  0.000662   \n",
              "3    0.000662  0.000662  0.000662  0.007794  0.714808  0.000662  0.000662   \n",
              "4    0.000662  0.000663  0.044111  0.000662  0.134099  0.000662  0.817153   \n",
              "..        ...       ...       ...       ...       ...       ...       ...   \n",
              "995  0.020196  0.144696  0.028968  0.007553  0.714576  0.000662  0.000663   \n",
              "996  0.017190  0.030846  0.041525  0.009077  0.255105  0.000663  0.544039   \n",
              "997  0.578319  0.000662  0.017186  0.000662  0.100862  0.276647  0.000662   \n",
              "998  0.060336  0.000662  0.083359  0.019817  0.425021  0.000662  0.033255   \n",
              "999  0.702207  0.009356  0.058699  0.000662  0.092280  0.000662  0.010564   \n",
              "\n",
              "            7         8         9  \n",
              "0    0.072249  0.018457  0.009721  \n",
              "1    0.000662  0.018217  0.000662  \n",
              "2    0.000662  0.026914  0.000662  \n",
              "3    0.000662  0.242295  0.031128  \n",
              "4    0.000662  0.000662  0.000662  \n",
              "..        ...       ...       ...  \n",
              "995  0.023502  0.023946  0.035239  \n",
              "996  0.047968  0.046065  0.007523  \n",
              "997  0.000662  0.023674  0.000662  \n",
              "998  0.000662  0.299679  0.076546  \n",
              "999  0.048385  0.055543  0.021642  \n",
              "\n",
              "[1000 rows x 10 columns]"
            ],
            "text/html": [
              "\n",
              "  <div id=\"df-076701f1-4244-49dc-84ff-0f12e6b401a8\">\n",
              "    <div class=\"colab-df-container\">\n",
              "      <div>\n",
              "<style scoped>\n",
              "    .dataframe tbody tr th:only-of-type {\n",
              "        vertical-align: middle;\n",
              "    }\n",
              "\n",
              "    .dataframe tbody tr th {\n",
              "        vertical-align: top;\n",
              "    }\n",
              "\n",
              "    .dataframe thead th {\n",
              "        text-align: right;\n",
              "    }\n",
              "</style>\n",
              "<table border=\"1\" class=\"dataframe\">\n",
              "  <thead>\n",
              "    <tr style=\"text-align: right;\">\n",
              "      <th></th>\n",
              "      <th>0</th>\n",
              "      <th>1</th>\n",
              "      <th>2</th>\n",
              "      <th>3</th>\n",
              "      <th>4</th>\n",
              "      <th>5</th>\n",
              "      <th>6</th>\n",
              "      <th>7</th>\n",
              "      <th>8</th>\n",
              "      <th>9</th>\n",
              "    </tr>\n",
              "  </thead>\n",
              "  <tbody>\n",
              "    <tr>\n",
              "      <th>0</th>\n",
              "      <td>0.000662</td>\n",
              "      <td>0.180973</td>\n",
              "      <td>0.000662</td>\n",
              "      <td>0.023051</td>\n",
              "      <td>0.000662</td>\n",
              "      <td>0.000662</td>\n",
              "      <td>0.692901</td>\n",
              "      <td>0.072249</td>\n",
              "      <td>0.018457</td>\n",
              "      <td>0.009721</td>\n",
              "    </tr>\n",
              "    <tr>\n",
              "      <th>1</th>\n",
              "      <td>0.910998</td>\n",
              "      <td>0.000663</td>\n",
              "      <td>0.012357</td>\n",
              "      <td>0.000663</td>\n",
              "      <td>0.054453</td>\n",
              "      <td>0.000662</td>\n",
              "      <td>0.000662</td>\n",
              "      <td>0.000662</td>\n",
              "      <td>0.018217</td>\n",
              "      <td>0.000662</td>\n",
              "    </tr>\n",
              "    <tr>\n",
              "      <th>2</th>\n",
              "      <td>0.000662</td>\n",
              "      <td>0.000662</td>\n",
              "      <td>0.887298</td>\n",
              "      <td>0.000662</td>\n",
              "      <td>0.071344</td>\n",
              "      <td>0.010471</td>\n",
              "      <td>0.000662</td>\n",
              "      <td>0.000662</td>\n",
              "      <td>0.026914</td>\n",
              "      <td>0.000662</td>\n",
              "    </tr>\n",
              "    <tr>\n",
              "      <th>3</th>\n",
              "      <td>0.000662</td>\n",
              "      <td>0.000662</td>\n",
              "      <td>0.000662</td>\n",
              "      <td>0.007794</td>\n",
              "      <td>0.714808</td>\n",
              "      <td>0.000662</td>\n",
              "      <td>0.000662</td>\n",
              "      <td>0.000662</td>\n",
              "      <td>0.242295</td>\n",
              "      <td>0.031128</td>\n",
              "    </tr>\n",
              "    <tr>\n",
              "      <th>4</th>\n",
              "      <td>0.000662</td>\n",
              "      <td>0.000663</td>\n",
              "      <td>0.044111</td>\n",
              "      <td>0.000662</td>\n",
              "      <td>0.134099</td>\n",
              "      <td>0.000662</td>\n",
              "      <td>0.817153</td>\n",
              "      <td>0.000662</td>\n",
              "      <td>0.000662</td>\n",
              "      <td>0.000662</td>\n",
              "    </tr>\n",
              "    <tr>\n",
              "      <th>...</th>\n",
              "      <td>...</td>\n",
              "      <td>...</td>\n",
              "      <td>...</td>\n",
              "      <td>...</td>\n",
              "      <td>...</td>\n",
              "      <td>...</td>\n",
              "      <td>...</td>\n",
              "      <td>...</td>\n",
              "      <td>...</td>\n",
              "      <td>...</td>\n",
              "    </tr>\n",
              "    <tr>\n",
              "      <th>995</th>\n",
              "      <td>0.020196</td>\n",
              "      <td>0.144696</td>\n",
              "      <td>0.028968</td>\n",
              "      <td>0.007553</td>\n",
              "      <td>0.714576</td>\n",
              "      <td>0.000662</td>\n",
              "      <td>0.000663</td>\n",
              "      <td>0.023502</td>\n",
              "      <td>0.023946</td>\n",
              "      <td>0.035239</td>\n",
              "    </tr>\n",
              "    <tr>\n",
              "      <th>996</th>\n",
              "      <td>0.017190</td>\n",
              "      <td>0.030846</td>\n",
              "      <td>0.041525</td>\n",
              "      <td>0.009077</td>\n",
              "      <td>0.255105</td>\n",
              "      <td>0.000663</td>\n",
              "      <td>0.544039</td>\n",
              "      <td>0.047968</td>\n",
              "      <td>0.046065</td>\n",
              "      <td>0.007523</td>\n",
              "    </tr>\n",
              "    <tr>\n",
              "      <th>997</th>\n",
              "      <td>0.578319</td>\n",
              "      <td>0.000662</td>\n",
              "      <td>0.017186</td>\n",
              "      <td>0.000662</td>\n",
              "      <td>0.100862</td>\n",
              "      <td>0.276647</td>\n",
              "      <td>0.000662</td>\n",
              "      <td>0.000662</td>\n",
              "      <td>0.023674</td>\n",
              "      <td>0.000662</td>\n",
              "    </tr>\n",
              "    <tr>\n",
              "      <th>998</th>\n",
              "      <td>0.060336</td>\n",
              "      <td>0.000662</td>\n",
              "      <td>0.083359</td>\n",
              "      <td>0.019817</td>\n",
              "      <td>0.425021</td>\n",
              "      <td>0.000662</td>\n",
              "      <td>0.033255</td>\n",
              "      <td>0.000662</td>\n",
              "      <td>0.299679</td>\n",
              "      <td>0.076546</td>\n",
              "    </tr>\n",
              "    <tr>\n",
              "      <th>999</th>\n",
              "      <td>0.702207</td>\n",
              "      <td>0.009356</td>\n",
              "      <td>0.058699</td>\n",
              "      <td>0.000662</td>\n",
              "      <td>0.092280</td>\n",
              "      <td>0.000662</td>\n",
              "      <td>0.010564</td>\n",
              "      <td>0.048385</td>\n",
              "      <td>0.055543</td>\n",
              "      <td>0.021642</td>\n",
              "    </tr>\n",
              "  </tbody>\n",
              "</table>\n",
              "<p>1000 rows × 10 columns</p>\n",
              "</div>\n",
              "      <button class=\"colab-df-convert\" onclick=\"convertToInteractive('df-076701f1-4244-49dc-84ff-0f12e6b401a8')\"\n",
              "              title=\"Convert this dataframe to an interactive table.\"\n",
              "              style=\"display:none;\">\n",
              "        \n",
              "  <svg xmlns=\"http://www.w3.org/2000/svg\" height=\"24px\"viewBox=\"0 0 24 24\"\n",
              "       width=\"24px\">\n",
              "    <path d=\"M0 0h24v24H0V0z\" fill=\"none\"/>\n",
              "    <path d=\"M18.56 5.44l.94 2.06.94-2.06 2.06-.94-2.06-.94-.94-2.06-.94 2.06-2.06.94zm-11 1L8.5 8.5l.94-2.06 2.06-.94-2.06-.94L8.5 2.5l-.94 2.06-2.06.94zm10 10l.94 2.06.94-2.06 2.06-.94-2.06-.94-.94-2.06-.94 2.06-2.06.94z\"/><path d=\"M17.41 7.96l-1.37-1.37c-.4-.4-.92-.59-1.43-.59-.52 0-1.04.2-1.43.59L10.3 9.45l-7.72 7.72c-.78.78-.78 2.05 0 2.83L4 21.41c.39.39.9.59 1.41.59.51 0 1.02-.2 1.41-.59l7.78-7.78 2.81-2.81c.8-.78.8-2.07 0-2.86zM5.41 20L4 18.59l7.72-7.72 1.47 1.35L5.41 20z\"/>\n",
              "  </svg>\n",
              "      </button>\n",
              "      \n",
              "  <style>\n",
              "    .colab-df-container {\n",
              "      display:flex;\n",
              "      flex-wrap:wrap;\n",
              "      gap: 12px;\n",
              "    }\n",
              "\n",
              "    .colab-df-convert {\n",
              "      background-color: #E8F0FE;\n",
              "      border: none;\n",
              "      border-radius: 50%;\n",
              "      cursor: pointer;\n",
              "      display: none;\n",
              "      fill: #1967D2;\n",
              "      height: 32px;\n",
              "      padding: 0 0 0 0;\n",
              "      width: 32px;\n",
              "    }\n",
              "\n",
              "    .colab-df-convert:hover {\n",
              "      background-color: #E2EBFA;\n",
              "      box-shadow: 0px 1px 2px rgba(60, 64, 67, 0.3), 0px 1px 3px 1px rgba(60, 64, 67, 0.15);\n",
              "      fill: #174EA6;\n",
              "    }\n",
              "\n",
              "    [theme=dark] .colab-df-convert {\n",
              "      background-color: #3B4455;\n",
              "      fill: #D2E3FC;\n",
              "    }\n",
              "\n",
              "    [theme=dark] .colab-df-convert:hover {\n",
              "      background-color: #434B5C;\n",
              "      box-shadow: 0px 1px 3px 1px rgba(0, 0, 0, 0.15);\n",
              "      filter: drop-shadow(0px 1px 2px rgba(0, 0, 0, 0.3));\n",
              "      fill: #FFFFFF;\n",
              "    }\n",
              "  </style>\n",
              "\n",
              "      <script>\n",
              "        const buttonEl =\n",
              "          document.querySelector('#df-076701f1-4244-49dc-84ff-0f12e6b401a8 button.colab-df-convert');\n",
              "        buttonEl.style.display =\n",
              "          google.colab.kernel.accessAllowed ? 'block' : 'none';\n",
              "\n",
              "        async function convertToInteractive(key) {\n",
              "          const element = document.querySelector('#df-076701f1-4244-49dc-84ff-0f12e6b401a8');\n",
              "          const dataTable =\n",
              "            await google.colab.kernel.invokeFunction('convertToInteractive',\n",
              "                                                     [key], {});\n",
              "          if (!dataTable) return;\n",
              "\n",
              "          const docLinkHtml = 'Like what you see? Visit the ' +\n",
              "            '<a target=\"_blank\" href=https://colab.research.google.com/notebooks/data_table.ipynb>data table notebook</a>'\n",
              "            + ' to learn more about interactive tables.';\n",
              "          element.innerHTML = '';\n",
              "          dataTable['output_type'] = 'display_data';\n",
              "          await google.colab.output.renderOutput(dataTable, element);\n",
              "          const docLink = document.createElement('div');\n",
              "          docLink.innerHTML = docLinkHtml;\n",
              "          element.appendChild(docLink);\n",
              "        }\n",
              "      </script>\n",
              "    </div>\n",
              "  </div>\n",
              "  "
            ]
          },
          "metadata": {},
          "execution_count": 19
        }
      ]
    },
    {
      "cell_type": "markdown",
      "source": [
        "#Models"
      ],
      "metadata": {
        "id": "UIiuZa8cjA9u"
      }
    },
    {
      "cell_type": "markdown",
      "source": [
        "##Imports"
      ],
      "metadata": {
        "id": "FZAXJPl6WVhJ"
      }
    },
    {
      "cell_type": "code",
      "source": [
        "from sklearn.cluster import KMeans\n",
        "from sklearn.metrics import silhouette_score\n",
        "import matplotlib.pyplot as plt\n",
        "from sklearn.decomposition import PCA\n",
        "import seaborn as sns\n",
        "from IPython.display import clear_output\n",
        "from sklearn.metrics import cohen_kappa_score\n",
        "from gensim.corpora.dictionary import Dictionary\n",
        "from gensim.models.ldamodel import LdaModel\n",
        "from gensim.models.coherencemodel import CoherenceModel\n",
        "from sklearn.metrics.cluster import homogeneity_score\n",
        "from sklearn import preprocessing\n",
        "from sklearn.preprocessing import MinMaxScaler\n",
        "from sklearn.feature_selection import GenericUnivariateSelect, chi2"
      ],
      "metadata": {
        "id": "zm_TpiT8Uglj",
        "colab": {
          "base_uri": "https://localhost:8080/"
        },
        "outputId": "5139efa0-034d-4d6d-d04f-4e18205d4579"
      },
      "execution_count": null,
      "outputs": [
        {
          "output_type": "stream",
          "name": "stderr",
          "text": [
            "/usr/lib/python3.7/importlib/_bootstrap.py:219: RuntimeWarning: numpy.ufunc size changed, may indicate binary incompatibility. Expected 192 from C header, got 216 from PyObject\n",
            "  return f(*args, **kwds)\n"
          ]
        }
      ]
    },
    {
      "cell_type": "code",
      "source": [
        "def selection(x,y):\n",
        "  transformer = GenericUnivariateSelect(chi2, mode='k_best', param=1000)\n",
        "  return transformer.fit_transform(x,y)"
      ],
      "metadata": {
        "id": "fY1hyzXeJlqA"
      },
      "execution_count": null,
      "outputs": []
    },
    {
      "cell_type": "code",
      "source": [
        "def change_scaling(feature_data):\n",
        "\n",
        "  scaler = MinMaxScaler()\n",
        "  scaler.fit(feature_data)\n",
        "  new_data=scaler.transform(feature_data)\n",
        "  return new_data"
      ],
      "metadata": {
        "id": "FYNfS1IWCrQQ"
      },
      "execution_count": null,
      "outputs": []
    },
    {
      "cell_type": "code",
      "source": [
        "#determine optimal number of clusters\n",
        "def get_no_clusters(feature_data):\n",
        "  wcss = []\n",
        "  for i in range(1, 11):\n",
        "      kmeans = KMeans(n_clusters=i, init='k-means++', max_iter=300, n_init=10, random_state=0)\n",
        "      kmeans.fit(feature_data)\n",
        "      wcss.append(kmeans.inertia_)\n",
        "      \n",
        "  plt.plot(range(1, 11), wcss)\n",
        "  plt.title('Elbow Method')\n",
        "  plt.xlabel('Number of clusters')\n",
        "  plt.ylabel('WCSS')\n",
        "  plt.show()\n",
        "  \n",
        "  s = []\n",
        "  for i in range(2, 11):\n",
        "    kmeans = KMeans(n_clusters=i, init='k-means++', max_iter=300, n_init=10, random_state=0)\n",
        "    kmeans.fit(feature_data)\n",
        "    s.append(silhouette_score(feature_data, kmeans.labels_))\n",
        "\n",
        "  plt.plot(range(2, 11), s)\n",
        "  plt.xlabel('Number of clusters')\n",
        "  plt.ylabel('silhouette')\n",
        "  plt.show()\n",
        "  clear_output\n",
        "\n",
        "  plt.bar(range(2, 11), s)\n",
        "  plt.xlabel('Number of Clusters')\n",
        "  plt.ylabel('V-Measure Score')\n",
        "  plt.title('Comparison of different Clustering Models')\n",
        "  plt.show()"
      ],
      "metadata": {
        "id": "2yVsfiuaUY8T"
      },
      "execution_count": null,
      "outputs": []
    },
    {
      "cell_type": "code",
      "source": [
        "def k_mean_model(feature_data,k):\n",
        "\n",
        "  #apply k_means\n",
        "  kmeans = KMeans(n_clusters=k, init='k-means++', max_iter=300, n_init=30, random_state=100)\n",
        "  model=kmeans.fit(feature_data)\n",
        "  pred_y = kmeans.predict(feature_data)\n",
        "  return pred_y,model"
      ],
      "metadata": {
        "id": "1Mfgo6BoVbCa"
      },
      "execution_count": null,
      "outputs": []
    },
    {
      "cell_type": "code",
      "source": [
        "def plot_kmeans(feature_data,title):\n",
        "  \n",
        "  #PCA\n",
        "  pca = PCA(n_components=2)\n",
        "  new_feature=pca.fit_transform(feature_data)\n",
        "\n",
        "  kmeans = KMeans(n_clusters=5, init='k-means++', max_iter=300, n_init=10, random_state=100)\n",
        "  model=kmeans.fit(new_feature)\n",
        "  pred_y = kmeans.predict(new_feature)\n",
        "\n",
        "  #build dataframe\n",
        "  new_df=pd.DataFrame()\n",
        "  x_list=[]\n",
        "  y_list=[]\n",
        "  for i in new_feature:\n",
        "    x_list.append(i[0])\n",
        "    y_list.append(i[1])\n",
        "\n",
        "  new_df['x']=pd.DataFrame(x_list)\n",
        "  new_df['y']=pd.DataFrame(y_list)\n",
        "  new_df['label']=pd.DataFrame(pred_y)\n",
        "  \n",
        "  #plot_seaborn\n",
        "  sns.scatterplot(data=new_df,x=new_df.iloc[:,0],y=new_df.iloc[:,1],s=120,hue=new_df['label'])\n",
        "  plt.title(f'K_MEAN WITH {title}')\n",
        "  sns.scatterplot(x=kmeans.cluster_centers_[:, 0],y=kmeans.cluster_centers_[:, 1],s=150,color='y')\n",
        "  "
      ],
      "metadata": {
        "id": "hTdJFCGug_T7"
      },
      "execution_count": null,
      "outputs": []
    },
    {
      "cell_type": "code",
      "source": [
        "def compare_target(y_pred):\n",
        "\n",
        "  compare_df = pd.concat([df, pd.DataFrame(y_pred, columns = ['predicted'])], axis=1)\n",
        "  for i in range(5):\n",
        "    predicted_class = compare_df[compare_df['Book_name'] == i].predicted.mode()[0]\n",
        "    compare_df[\"predicted\"] = compare_df.predicted.replace(predicted_class, i)\n",
        "  return compare_df[\"predicted\"].to_numpy()"
      ],
      "metadata": {
        "id": "nd-NFclkSuwu"
      },
      "execution_count": null,
      "outputs": []
    },
    {
      "cell_type": "markdown",
      "source": [
        "##K-mean"
      ],
      "metadata": {
        "id": "N3Cqu_9p0lnL"
      }
    },
    {
      "cell_type": "markdown",
      "source": [
        "###coherence"
      ],
      "metadata": {
        "id": "wOsV4Ww1Lk36"
      }
    },
    {
      "cell_type": "code",
      "source": [
        "def joinDocPartitions(text_df, groupby_col):\n",
        "    doc_labels = sorted(text_df[groupby_col].unique())\n",
        "    docs = []\n",
        "    for i, label in enumerate(doc_labels):\n",
        "        doc_text = text_df[text_df[groupby_col] == label]\n",
        "        text = ' '.join(doc_text[\"document\"].values)\n",
        "        docs.append(text)\n",
        "    return docs"
      ],
      "metadata": {
        "id": "looK10TQLUi3"
      },
      "execution_count": null,
      "outputs": []
    },
    {
      "cell_type": "code",
      "source": [
        "from sklearn.feature_extraction.text import CountVectorizer\n",
        "\n",
        "def getMostFreqWordsText(text_df, n_words, groupby_col):\n",
        "  '''Accepts df with text partitions unlinke\n",
        "      getMostFreqWords function that needs\n",
        "      BOW or TFIDF encoded df'''\n",
        "  docs = joinDocPartitions(text_df, groupby_col)\n",
        "  freq_terms = []\n",
        "  for doc in docs:\n",
        "    vectorizer = CountVectorizer(max_features=n_words)\n",
        "    vectorizer.fit([doc])\n",
        "    vocab = vectorizer.get_feature_names()\n",
        "    freq_terms.append(vocab)\n",
        "  return freq_terms"
      ],
      "metadata": {
        "id": "OkdHyz2GLZP-"
      },
      "execution_count": null,
      "outputs": []
    },
    {
      "cell_type": "code",
      "source": [
        "# centroid_colname -> the name of target column\n",
        "# df_pred          -> dataFrame of two columns the first is the documents(original documents) and the second column is the prediction of em model\n",
        "\n",
        "from itertools import combinations\n",
        "\n",
        "def compute_coherence(df_pred, w2v_model, centroid_colname = \"pred\", top_n=20):\n",
        "  word_freqs_list = getMostFreqWordsText(df_pred, top_n, centroid_colname)\n",
        "\n",
        "  coherences = []\n",
        "  for i in range(len(word_freqs_list)):\n",
        "    freq_words = word_freqs_list[i]\n",
        "    topic_similarity = []\n",
        "    for word_i, word_j in combinations(freq_words, 2):\n",
        "      try:\n",
        "        topic_similarity.append(w2v_model.wv.similarity(word_i, word_j))\n",
        "      except:\n",
        "        pass\n",
        "        #print(f\"Niether {word_i} nor {word_j} is in vocab, skipping\")\n",
        "    avg_similarity = sum(topic_similarity) / len(topic_similarity)\n",
        "    coherences.append(avg_similarity)\n",
        "  return sum(coherences)/len(coherences)\n"
      ],
      "metadata": {
        "id": "oA6O74FuKbwA"
      },
      "execution_count": null,
      "outputs": []
    },
    {
      "cell_type": "code",
      "source": [
        "# slice document into words\n",
        "def build_corpus(data):\n",
        "    \"Creates a list of lists containing words from each sentence\"\n",
        "    corpus = []\n",
        "    for sentence in data['document'].iteritems():\n",
        "        word_list = sentence[1].split()\n",
        "        corpus.append(word_list)\n",
        "          \n",
        "    return corpus"
      ],
      "metadata": {
        "id": "ciwKcjvfLezp"
      },
      "execution_count": null,
      "outputs": []
    },
    {
      "cell_type": "markdown",
      "source": [
        "###evaluate"
      ],
      "metadata": {
        "id": "Uj45oFKeLwF7"
      }
    },
    {
      "cell_type": "code",
      "source": [
        "x=df['Book_name'].to_numpy()\n",
        "def evaluate_model(model,feature_data,pred_y):\n",
        "  print(f'the silhouette_score = {silhouette_score(feature_data,pred_y)}')\n",
        "  print(f'the Kappa_score = {cohen_kappa_score(x,pred_y)}')\n",
        "  #print(f'the homogeneity_score = {homogeneity_score(x,pred_y)}')  \n"
      ],
      "metadata": {
        "id": "uKE_-UoIetjb"
      },
      "execution_count": null,
      "outputs": []
    },
    {
      "cell_type": "markdown",
      "source": [
        "###k-mean with BOW "
      ],
      "metadata": {
        "id": "4Wcrizd2Xq_I"
      }
    },
    {
      "cell_type": "code",
      "source": [
        "# #X_train_counts, X_train_tf, lda_x, X_train_we\n",
        "#get_no_clusters(X_train_counts)\n",
        "y_pred,model=k_mean_model(X_train_counts,5)\n",
        "print(f'the homogeneity_score = {homogeneity_score(x,y_pred)}')  \n",
        "y_pred=compare_target(y_pred)\n",
        "evaluate_model(model,X_train_counts,y_pred)\n",
        "#plot_kmeans(X_train_counts,\" BOW\")"
      ],
      "metadata": {
        "colab": {
          "base_uri": "https://localhost:8080/"
        },
        "id": "Io3uVCLAWtwN",
        "outputId": "34fd1426-2791-4e1c-9d55-d43ee289428e"
      },
      "execution_count": null,
      "outputs": [
        {
          "output_type": "stream",
          "name": "stdout",
          "text": [
            "the homogeneity_score = 0.877890353270728\n",
            "the silhouette_score = 0.009538945728095985\n",
            "the Kappa_score = 0.6637500000000001\n"
          ]
        }
      ]
    },
    {
      "cell_type": "code",
      "source": [
        "#compute coherence\n",
        "cdf = DataFrame()\n",
        "cdf['document'] = df.words\n",
        "cdf.document = cdf.document.apply(lambda x:' '.join(x))\n",
        "cdf['pred'] =y_pred\n",
        "\n",
        "# df -> the original dataframe which contains the text documents and the titles\n",
        "from gensim.models import Word2Vec\n",
        "corpus = build_corpus(cdf)        \n",
        "w2v_model = Word2Vec(corpus, size=30, window=9, min_count=10, workers=4)\n",
        "print(f'the coherence score of k mean is {compute_coherence(cdf,w2v_model)}')"
      ],
      "metadata": {
        "id": "9lq6qo9NMNRL",
        "colab": {
          "base_uri": "https://localhost:8080/"
        },
        "outputId": "34c72967-b225-44f5-9f65-a87bef640f5a"
      },
      "execution_count": null,
      "outputs": [
        {
          "output_type": "stream",
          "name": "stdout",
          "text": [
            "the coherence score of k mean is 0.7572433264117296\n"
          ]
        },
        {
          "output_type": "stream",
          "name": "stderr",
          "text": [
            "/usr/local/lib/python3.7/dist-packages/sklearn/utils/deprecation.py:87: FutureWarning: Function get_feature_names is deprecated; get_feature_names is deprecated in 1.0 and will be removed in 1.2. Please use get_feature_names_out instead.\n",
            "  warnings.warn(msg, category=FutureWarning)\n",
            "/usr/local/lib/python3.7/dist-packages/sklearn/utils/deprecation.py:87: FutureWarning: Function get_feature_names is deprecated; get_feature_names is deprecated in 1.0 and will be removed in 1.2. Please use get_feature_names_out instead.\n",
            "  warnings.warn(msg, category=FutureWarning)\n",
            "/usr/local/lib/python3.7/dist-packages/sklearn/utils/deprecation.py:87: FutureWarning: Function get_feature_names is deprecated; get_feature_names is deprecated in 1.0 and will be removed in 1.2. Please use get_feature_names_out instead.\n",
            "  warnings.warn(msg, category=FutureWarning)\n",
            "/usr/local/lib/python3.7/dist-packages/sklearn/utils/deprecation.py:87: FutureWarning: Function get_feature_names is deprecated; get_feature_names is deprecated in 1.0 and will be removed in 1.2. Please use get_feature_names_out instead.\n",
            "  warnings.warn(msg, category=FutureWarning)\n",
            "/usr/local/lib/python3.7/dist-packages/gensim/matutils.py:737: DeprecationWarning: `np.int` is a deprecated alias for the builtin `int`. To silence this warning, use `int` by itself. Doing this will not modify any behavior and is safe. When replacing `np.int`, you may wish to use e.g. `np.int64` or `np.int32` to specify the precision. If you wish to review your current use, check the release note link for additional information.\n",
            "Deprecated in NumPy 1.20; for more details and guidance: https://numpy.org/devdocs/release/1.20.0-notes.html#deprecations\n",
            "  if np.issubdtype(vec.dtype, np.int):\n"
          ]
        }
      ]
    },
    {
      "cell_type": "markdown",
      "source": [
        "###Ek-mean with tf_idf"
      ],
      "metadata": {
        "id": "ra1xwI9BZch_"
      }
    },
    {
      "cell_type": "code",
      "source": [
        "#X_train_counts, X_train_tf, lda_x, X_train_we\n",
        "#get_no_clusters(X_train_tf)\n",
        "y_pred,model=k_mean_model(X_train_tf,5)\n",
        "print(f'the homogeneity_score = {homogeneity_score(x,y_pred)}') \n",
        "y_pred=compare_target(y_pred)\n",
        "evaluate_model(model,X_train_tf,y_pred)\n",
        "#plot_kmeans(X_train_tf,\"TF-IDF\")"
      ],
      "metadata": {
        "colab": {
          "base_uri": "https://localhost:8080/"
        },
        "id": "m4rO-_YCZdvS",
        "outputId": "b2085b86-7436-4135-e2c0-91cf24b5729d"
      },
      "execution_count": null,
      "outputs": [
        {
          "output_type": "stream",
          "name": "stdout",
          "text": [
            "the homogeneity_score = 0.892943173671078\n",
            "the silhouette_score = 0.03577874567994278\n",
            "the Kappa_score = 0.6675\n"
          ]
        }
      ]
    },
    {
      "cell_type": "code",
      "source": [
        "#compute coherence\n",
        "cdf = DataFrame()\n",
        "cdf['document'] = df.words\n",
        "cdf.document = cdf.document.apply(lambda x:' '.join(x))\n",
        "cdf['pred'] =y_pred\n",
        "\n",
        "# df -> the original dataframe which contains the text documents and the titles\n",
        "from gensim.models import Word2Vec\n",
        "corpus = build_corpus(cdf)        \n",
        "w2v_model = Word2Vec(corpus, size=30, window=9, min_count=10, workers=4)\n",
        "print(f'the coherence score of k mean is {compute_coherence(cdf,w2v_model)}')"
      ],
      "metadata": {
        "id": "-0-iIaCSOGSb",
        "colab": {
          "base_uri": "https://localhost:8080/"
        },
        "outputId": "80d73d37-889a-4719-f65d-9d9d95babf0e"
      },
      "execution_count": null,
      "outputs": [
        {
          "output_type": "stream",
          "name": "stdout",
          "text": [
            "the coherence score of k mean is 0.8529711748228261\n"
          ]
        },
        {
          "output_type": "stream",
          "name": "stderr",
          "text": [
            "/usr/local/lib/python3.7/dist-packages/sklearn/utils/deprecation.py:87: FutureWarning: Function get_feature_names is deprecated; get_feature_names is deprecated in 1.0 and will be removed in 1.2. Please use get_feature_names_out instead.\n",
            "  warnings.warn(msg, category=FutureWarning)\n",
            "/usr/local/lib/python3.7/dist-packages/sklearn/utils/deprecation.py:87: FutureWarning: Function get_feature_names is deprecated; get_feature_names is deprecated in 1.0 and will be removed in 1.2. Please use get_feature_names_out instead.\n",
            "  warnings.warn(msg, category=FutureWarning)\n",
            "/usr/local/lib/python3.7/dist-packages/sklearn/utils/deprecation.py:87: FutureWarning: Function get_feature_names is deprecated; get_feature_names is deprecated in 1.0 and will be removed in 1.2. Please use get_feature_names_out instead.\n",
            "  warnings.warn(msg, category=FutureWarning)\n",
            "/usr/local/lib/python3.7/dist-packages/sklearn/utils/deprecation.py:87: FutureWarning: Function get_feature_names is deprecated; get_feature_names is deprecated in 1.0 and will be removed in 1.2. Please use get_feature_names_out instead.\n",
            "  warnings.warn(msg, category=FutureWarning)\n",
            "/usr/local/lib/python3.7/dist-packages/gensim/matutils.py:737: DeprecationWarning: `np.int` is a deprecated alias for the builtin `int`. To silence this warning, use `int` by itself. Doing this will not modify any behavior and is safe. When replacing `np.int`, you may wish to use e.g. `np.int64` or `np.int32` to specify the precision. If you wish to review your current use, check the release note link for additional information.\n",
            "Deprecated in NumPy 1.20; for more details and guidance: https://numpy.org/devdocs/release/1.20.0-notes.html#deprecations\n",
            "  if np.issubdtype(vec.dtype, np.int):\n"
          ]
        }
      ]
    },
    {
      "cell_type": "markdown",
      "source": [
        "###k_mean with lda_x"
      ],
      "metadata": {
        "id": "ilVuijyeZn7l"
      }
    },
    {
      "cell_type": "code",
      "source": [
        "#X_train_counts, X_train_tf, lda_x, X_train_we\n",
        "#get_no_clusters(lda_x)\n",
        "y_pred,model=k_mean_model(lda_x,5)\n",
        "print(f'the homogeneity_score = {homogeneity_score(x,y_pred)}') \n",
        "y_pred=compare_target(y_pred)\n",
        "evaluate_model(model,lda_x,y_pred)\n",
        "#plot_kmeans(lda_x,\"LDA\")"
      ],
      "metadata": {
        "colab": {
          "base_uri": "https://localhost:8080/"
        },
        "id": "8d-a2--nZsPE",
        "outputId": "5aadd351-b85a-4ba8-de27-084879f8339f"
      },
      "execution_count": null,
      "outputs": [
        {
          "output_type": "stream",
          "name": "stdout",
          "text": [
            "the homogeneity_score = 0.7607970803799996\n",
            "the silhouette_score = 0.28200647234916687\n",
            "the Kappa_score = 0.18625000000000003\n"
          ]
        }
      ]
    },
    {
      "cell_type": "code",
      "source": [
        "#compute coherence\n",
        "cdf = DataFrame()\n",
        "cdf['document'] = df.words\n",
        "cdf.document = cdf.document.apply(lambda x:' '.join(x))\n",
        "cdf['pred'] =y_pred\n",
        "\n",
        "# df -> the original dataframe which contains the text documents and the titles\n",
        "from gensim.models import Word2Vec\n",
        "corpus = build_corpus(cdf)        \n",
        "w2v_model = Word2Vec(corpus, size=30, window=9, min_count=10, workers=4)\n",
        "print(f'the coherence score of k mean is {compute_coherence(cdf,w2v_model)}')"
      ],
      "metadata": {
        "id": "DRLvLymROL72",
        "colab": {
          "base_uri": "https://localhost:8080/"
        },
        "outputId": "d4d3db01-7613-40f4-b9ce-ce7f17782c44"
      },
      "execution_count": null,
      "outputs": [
        {
          "output_type": "stream",
          "name": "stdout",
          "text": [
            "the coherence score of k mean is 0.8355069458876785\n"
          ]
        },
        {
          "output_type": "stream",
          "name": "stderr",
          "text": [
            "/usr/local/lib/python3.7/dist-packages/sklearn/utils/deprecation.py:87: FutureWarning: Function get_feature_names is deprecated; get_feature_names is deprecated in 1.0 and will be removed in 1.2. Please use get_feature_names_out instead.\n",
            "  warnings.warn(msg, category=FutureWarning)\n",
            "/usr/local/lib/python3.7/dist-packages/sklearn/utils/deprecation.py:87: FutureWarning: Function get_feature_names is deprecated; get_feature_names is deprecated in 1.0 and will be removed in 1.2. Please use get_feature_names_out instead.\n",
            "  warnings.warn(msg, category=FutureWarning)\n",
            "/usr/local/lib/python3.7/dist-packages/gensim/matutils.py:737: DeprecationWarning: `np.int` is a deprecated alias for the builtin `int`. To silence this warning, use `int` by itself. Doing this will not modify any behavior and is safe. When replacing `np.int`, you may wish to use e.g. `np.int64` or `np.int32` to specify the precision. If you wish to review your current use, check the release note link for additional information.\n",
            "Deprecated in NumPy 1.20; for more details and guidance: https://numpy.org/devdocs/release/1.20.0-notes.html#deprecations\n",
            "  if np.issubdtype(vec.dtype, np.int):\n"
          ]
        }
      ]
    },
    {
      "cell_type": "markdown",
      "source": [
        "###k_mean with X_train_we"
      ],
      "metadata": {
        "id": "wxT4UV1AZxNV"
      }
    },
    {
      "cell_type": "code",
      "source": [
        "#X_train_counts, X_train_tf, lda_x, X_train_we\n",
        "#get_no_clusters(X_train_we)\n",
        "y_pred,model=k_mean_model(X_train_we,5)\n",
        "print(f'the homogeneity_score = {homogeneity_score(x,y_pred)}')\n",
        "y_pred=compare_target(y_pred)\n",
        "evaluate_model(model,X_train_we,y_pred)\n",
        "#plot_kmeans(X_train_we,\"word Embedding\")"
      ],
      "metadata": {
        "colab": {
          "base_uri": "https://localhost:8080/"
        },
        "id": "8vK_3OjZZ4jx",
        "outputId": "ba9de029-c904-4bce-b07a-9f489bb0f501"
      },
      "execution_count": null,
      "outputs": [
        {
          "output_type": "stream",
          "name": "stdout",
          "text": [
            "the homogeneity_score = 0.6232770060379154\n",
            "the silhouette_score = -0.011160289868712425\n",
            "the Kappa_score = 0.24624999999999997\n"
          ]
        }
      ]
    },
    {
      "cell_type": "code",
      "source": [
        "#compute coherence\n",
        "cdf = DataFrame()\n",
        "cdf['document'] = df.words\n",
        "cdf.document = cdf.document.apply(lambda x:' '.join(x))\n",
        "cdf['pred'] =y_pred\n",
        "\n",
        "# df -> the original dataframe which contains the text documents and the titles\n",
        "from gensim.models import Word2Vec\n",
        "corpus = build_corpus(cdf)        \n",
        "w2v_model = Word2Vec(corpus, size=30, window=9, min_count=10, workers=4)\n",
        "print(f'the coherence score of k mean is {compute_coherence(cdf,w2v_model)}')"
      ],
      "metadata": {
        "id": "WvD9bYoLOTGp",
        "colab": {
          "base_uri": "https://localhost:8080/"
        },
        "outputId": "936075fe-1747-4237-ae45-0f2da129a614"
      },
      "execution_count": null,
      "outputs": [
        {
          "output_type": "stream",
          "name": "stdout",
          "text": [
            "the coherence score of k mean is 0.8045489200832028\n"
          ]
        },
        {
          "output_type": "stream",
          "name": "stderr",
          "text": [
            "/usr/local/lib/python3.7/dist-packages/sklearn/utils/deprecation.py:87: FutureWarning: Function get_feature_names is deprecated; get_feature_names is deprecated in 1.0 and will be removed in 1.2. Please use get_feature_names_out instead.\n",
            "  warnings.warn(msg, category=FutureWarning)\n",
            "/usr/local/lib/python3.7/dist-packages/sklearn/utils/deprecation.py:87: FutureWarning: Function get_feature_names is deprecated; get_feature_names is deprecated in 1.0 and will be removed in 1.2. Please use get_feature_names_out instead.\n",
            "  warnings.warn(msg, category=FutureWarning)\n",
            "/usr/local/lib/python3.7/dist-packages/gensim/matutils.py:737: DeprecationWarning: `np.int` is a deprecated alias for the builtin `int`. To silence this warning, use `int` by itself. Doing this will not modify any behavior and is safe. When replacing `np.int`, you may wish to use e.g. `np.int64` or `np.int32` to specify the precision. If you wish to review your current use, check the release note link for additional information.\n",
            "Deprecated in NumPy 1.20; for more details and guidance: https://numpy.org/devdocs/release/1.20.0-notes.html#deprecations\n",
            "  if np.issubdtype(vec.dtype, np.int):\n"
          ]
        }
      ]
    },
    {
      "cell_type": "markdown",
      "source": [
        "##Expectation Maximization"
      ],
      "metadata": {
        "id": "rH615V8NrJvV"
      }
    },
    {
      "cell_type": "markdown",
      "source": [
        "###Evaluation"
      ],
      "metadata": {
        "id": "A3oWL_1KVllA"
      }
    },
    {
      "cell_type": "code",
      "source": [
        "def compare_target(y_pred):\n",
        "\n",
        "  compare_df = pd.concat([df, pd.DataFrame(y_pred, columns = ['predicted'])], axis=1)\n",
        "  for i in range(5):\n",
        "    predicted_class = compare_df[compare_df['Book_name'] == i].predicted.mode()[0]\n",
        "    compare_df[\"predicted\"] = compare_df.predicted.replace(predicted_class, i)\n",
        "  return compare_df[\"predicted\"].to_numpy()"
      ],
      "metadata": {
        "id": "EUSzN-0IXBDG"
      },
      "execution_count": null,
      "outputs": []
    },
    {
      "cell_type": "code",
      "source": [
        "def joinDocPartitions(text_df, groupby_col):\n",
        "    doc_labels = sorted(text_df[groupby_col].unique())\n",
        "    docs = []\n",
        "    for i, label in enumerate(doc_labels):\n",
        "        doc_text = text_df[text_df[groupby_col] == label]\n",
        "        text = ' '.join(doc_text[\"document\"].values)\n",
        "        docs.append(text)\n",
        "    return docs"
      ],
      "metadata": {
        "id": "eSgBpq5jkt9r"
      },
      "execution_count": null,
      "outputs": []
    },
    {
      "cell_type": "code",
      "source": [
        "from sklearn.feature_extraction.text import CountVectorizer\n",
        "\n",
        "def getMostFreqWordsText(text_df, n_words, groupby_col):\n",
        "  '''Accepts df with text partitions unlinke\n",
        "      getMostFreqWords function that needs\n",
        "      BOW or TFIDF encoded df'''\n",
        "  docs = joinDocPartitions(text_df, groupby_col)\n",
        "  freq_terms = []\n",
        "  for doc in docs:\n",
        "    vectorizer = CountVectorizer(max_features=n_words)\n",
        "    vectorizer.fit([doc])\n",
        "    vocab = vectorizer.get_feature_names()\n",
        "    freq_terms.append(vocab)\n",
        "  return freq_terms"
      ],
      "metadata": {
        "id": "oIjdZMmUkgoj"
      },
      "execution_count": null,
      "outputs": []
    },
    {
      "cell_type": "code",
      "source": [
        "from itertools import combinations\n",
        "\n",
        "def compute_coherence(df_pred, w2v_model, centroid_colname = \"pred\", top_n=20):\n",
        "  word_freqs_list = getMostFreqWordsText(df_pred, top_n, centroid_colname)\n",
        "\n",
        "  coherences = []\n",
        "  for i in range(len(word_freqs_list)):\n",
        "    freq_words = word_freqs_list[i]\n",
        "    topic_similarity = []\n",
        "    for word_i, word_j in combinations(freq_words, 2):\n",
        "      try:\n",
        "        topic_similarity.append(w2v_model.wv.similarity(word_i, word_j))\n",
        "      except:\n",
        "        pass\n",
        "        #print(f\"Niether {word_i} nor {word_j} is in vocab, skipping\")\n",
        "    avg_similarity = sum(topic_similarity) / len(topic_similarity)\n",
        "    coherences.append(avg_similarity)\n",
        "  return sum(coherences)/len(coherences)"
      ],
      "metadata": {
        "id": "ajOCvAHSkiY8"
      },
      "execution_count": null,
      "outputs": []
    },
    {
      "cell_type": "code",
      "source": [
        "# slice document into words\n",
        "def build_corpus(data):\n",
        "    \"Creates a list of lists containing words from each sentence\"\n",
        "    corpus = []\n",
        "    for sentence in data['document'].iteritems():\n",
        "        word_list = sentence[1].split()\n",
        "        corpus.append(word_list)\n",
        "          \n",
        "    return corpus"
      ],
      "metadata": {
        "id": "QUvrXV0ouN_T"
      },
      "execution_count": null,
      "outputs": []
    },
    {
      "cell_type": "code",
      "source": [
        "cdf = DataFrame()\n",
        "cdf['document'] = df.words\n",
        "cdf.document = cdf.document.apply(lambda x:' '.join(x))"
      ],
      "metadata": {
        "id": "Ne1LQ4dkWFM0"
      },
      "execution_count": null,
      "outputs": []
    },
    {
      "cell_type": "code",
      "source": [
        "def evaluate_model(feature_data,pred_y, m_pred_y):\n",
        "  x=df['Book_name'].to_numpy()\n",
        "\n",
        "  cdf['pred'] = pred_y\n",
        "  coherence = compute_coherence(cdf,w2v_model)\n",
        "  clear_output()\n",
        "  print(f'the silhouette_score = {silhouette_score(feature_data,m_pred_y)}')\n",
        "  print(f'the Kappa_score = {cohen_kappa_score(x,m_pred_y)}')\n",
        "  print(f'the homogeneity_score = {homogeneity_score(x,pred_y)}')  \n",
        "  print(f'the coherence_score = {coherence}')  \n",
        "  "
      ],
      "metadata": {
        "id": "13OF21wbXBDI"
      },
      "execution_count": null,
      "outputs": []
    },
    {
      "cell_type": "code",
      "source": [
        "import random\n",
        "cdf['pred'] = [random.randint(1,4) for i in range(1000)] "
      ],
      "metadata": {
        "id": "l7Dhf6lcZqbO"
      },
      "execution_count": null,
      "outputs": []
    },
    {
      "cell_type": "code",
      "source": [
        "from gensim.models import Word2Vec\n",
        "corpus = build_corpus(cdf)        \n",
        "w2v_model = Word2Vec(corpus, size=30, window=9, min_count=10, workers=4)"
      ],
      "metadata": {
        "id": "IAmRwSRauIDE"
      },
      "execution_count": null,
      "outputs": []
    },
    {
      "cell_type": "code",
      "source": [
        "# print(f'the coherence_score = {compute_coherence(cdf,w2v_model)}')"
      ],
      "metadata": {
        "id": "8pQCS6HVZok7"
      },
      "execution_count": null,
      "outputs": []
    },
    {
      "cell_type": "markdown",
      "source": [
        "###Dimentionality Rediction"
      ],
      "metadata": {
        "id": "FYIkFuDGFHG2"
      }
    },
    {
      "cell_type": "code",
      "source": [
        "from sklearn.decomposition import PCA"
      ],
      "metadata": {
        "id": "M9d32R7JFLOc"
      },
      "execution_count": null,
      "outputs": []
    },
    {
      "cell_type": "code",
      "source": [
        "pca = PCA(n_components=1000)\n",
        "bow = pca.fit_transform(X_train_counts)\n",
        "\n",
        "pca = PCA(n_components=1000)\n",
        "tf_idf = pca.fit_transform(X_train_tf)\n",
        "\n",
        "# pca = PCA(n_components=1000)\n",
        "# lda = pca.fit_transform(lda_data)\n",
        "\n",
        "pca = PCA(n_components=1000)\n",
        "we = pca.fit_transform(X_train_we.values)"
      ],
      "metadata": {
        "id": "GCxX584DFRCC"
      },
      "execution_count": null,
      "outputs": []
    },
    {
      "cell_type": "markdown",
      "source": [
        "###Plotting"
      ],
      "metadata": {
        "id": "eEgR8TOIlL10"
      }
    },
    {
      "cell_type": "code",
      "source": [
        "from sklearn.mixture import GaussianMixture\n"
      ],
      "metadata": {
        "id": "q7waAey-mh0B"
      },
      "execution_count": null,
      "outputs": []
    },
    {
      "cell_type": "code",
      "source": [
        "def plot_em(data, k=5):\n",
        "  import seaborn as sns\n",
        "  #PCA\n",
        "  pca = PCA(n_components=2)\n",
        "  new_feature=pca.fit_transform(data)\n",
        "\n",
        "  model = GaussianMixture(k, covariance_type='full', random_state=0).fit(DataFrame(data))\n",
        "  pred_y = model.predict(data)\n",
        "\n",
        "  #build dataframe\n",
        "  new_df=pd.DataFrame()\n",
        "  x_list=[]\n",
        "  y_list=[]\n",
        "  for i in new_feature:\n",
        "    x_list.append(i[0])\n",
        "    y_list.append(i[1])\n",
        "\n",
        "  new_df['x']=pd.DataFrame(x_list)\n",
        "  new_df['y']=pd.DataFrame(y_list)\n",
        "  new_df['label']=pd.DataFrame(pred_y)\n",
        "  \n",
        "  #plot_seaborn\n",
        "  sns.scatterplot(data=new_df,x=new_df.iloc[:,0],y=new_df.iloc[:,1],s=120,hue=new_df['label'])\n",
        "  # sns.scatterplot(x=kmeans.cluster_centers_[:, 0],y=kmeans.cluster_centers_[:, 1],s=150,color='y')\n",
        "  clear_output()\n",
        "  return pred_y"
      ],
      "metadata": {
        "id": "wrFpxy0WlQtd"
      },
      "execution_count": null,
      "outputs": []
    },
    {
      "cell_type": "markdown",
      "source": [
        "###EM and BOW"
      ],
      "metadata": {
        "id": "q0Am4Tv41Aem"
      }
    },
    {
      "cell_type": "code",
      "source": [
        "from sklearn.cluster import KMeans\n",
        "from sklearn.metrics import silhouette_score\n",
        "import matplotlib.pyplot as plt\n",
        "\n",
        "bic_bow = []\n",
        "aic_bow = []\n",
        "for i in range(2, 11):\n",
        "  em = GaussianMixture(i, covariance_type='spherical', random_state=0).fit(DataFrame(bow))\n",
        "  bic_bow.append(em.bic(bow))\n",
        "  aic_bow.append(em.aic(bow))"
      ],
      "metadata": {
        "id": "EwZxf1h1Fmg9"
      },
      "execution_count": null,
      "outputs": []
    },
    {
      "cell_type": "code",
      "source": [
        "plt.plot(range(2, 11), bic_bow)\n",
        "plt.plot(range(2, 11), aic_bow)\n",
        "plt.title('Elbow Method')\n",
        "plt.xlabel('Number of clusters')\n",
        "plt.ylabel('BIC, AIC')\n",
        "plt.show()"
      ],
      "metadata": {
        "id": "HklTBD4AJp48",
        "colab": {
          "base_uri": "https://localhost:8080/"
        },
        "outputId": "245efd53-25ad-4be1-fc9d-8b7b23a96ca6"
      },
      "execution_count": null,
      "outputs": [
        {
          "output_type": "display_data",
          "data": {
            "text/plain": [
              "<Figure size 432x288 with 1 Axes>"
            ],
            "image/png": "[encoded data removed]"
          },
          "metadata": {
            "needs_background": "light"
          }
        }
      ]
    },
    {
      "cell_type": "code",
      "source": [
        "pred_bow = plot_em(bow, 5)"
      ],
      "metadata": {
        "id": "4jNpMv9TxYPk",
        "colab": {
          "base_uri": "https://localhost:8080/"
        },
        "outputId": "b66c8c89-a3ff-4757-d0c1-848ad9d6af97"
      },
      "execution_count": null,
      "outputs": [
        {
          "output_type": "display_data",
          "data": {
            "text/plain": [
              "<Figure size 432x288 with 1 Axes>"
            ],
            "image/png": "[encoded data removed]"
          },
          "metadata": {
            "needs_background": "light"
          }
        }
      ]
    },
    {
      "cell_type": "code",
      "source": [
        "m_pred_bow = compare_target(pred_bow)\n",
        "evaluate_model(bow, pred_bow, m_pred_bow)"
      ],
      "metadata": {
        "id": "kULODMhAPdTq",
        "colab": {
          "base_uri": "https://localhost:8080/"
        },
        "outputId": "c66da860-1e0b-47fa-8625-9006d6fe4da9"
      },
      "execution_count": null,
      "outputs": [
        {
          "output_type": "stream",
          "name": "stdout",
          "text": [
            "the silhouette_score = 0.039710032995256286\n",
            "the Kappa_score = 0.17625000000000002\n",
            "the homogeneity_score = 0.8056522150202592\n",
            "the coherence_score = 0.8567708597175386\n"
          ]
        }
      ]
    },
    {
      "cell_type": "markdown",
      "source": [
        "###EM and TF-IDF"
      ],
      "metadata": {
        "id": "aYbwStQ-6EAz"
      }
    },
    {
      "cell_type": "code",
      "source": [
        "from sklearn.cluster import KMeans\n",
        "from sklearn.metrics import silhouette_score\n",
        "import matplotlib.pyplot as plt\n",
        "\n",
        "bic_tf = []\n",
        "aic_tf = []\n",
        "for i in range(2, 11):\n",
        "  em = GaussianMixture(i, covariance_type='spherical', random_state=0).fit(DataFrame(tf_idf))\n",
        "  bic_tf.append(em.bic(tf_idf))\n",
        "  aic_tf.append(em.aic(tf_idf))"
      ],
      "metadata": {
        "id": "1uJmVfk5KPTh"
      },
      "execution_count": null,
      "outputs": []
    },
    {
      "cell_type": "code",
      "source": [
        "plt.plot(range(2, 11), bic_tf)\n",
        "plt.plot(range(2, 11), aic_tf)\n",
        "plt.title('Elbow Method')\n",
        "plt.xlabel('Number of clusters')\n",
        "plt.ylabel('BIC, AIC')\n",
        "plt.show()"
      ],
      "metadata": {
        "id": "VftF5lyVKPTh",
        "colab": {
          "base_uri": "https://localhost:8080/",
          "height": 295
        },
        "outputId": "dea74cd3-9498-4e73-ff75-967977f8d8e1"
      },
      "execution_count": null,
      "outputs": [
        {
          "output_type": "display_data",
          "data": {
            "text/plain": [
              "<Figure size 432x288 with 1 Axes>"
            ],
            "image/png": "[encoded data removed]"
          },
          "metadata": {
            "needs_background": "light"
          }
        }
      ]
    },
    {
      "cell_type": "code",
      "source": [
        "pred_tf = plot_em(tf_idf, 5)"
      ],
      "metadata": {
        "id": "NbmqgFRrsZI5",
        "colab": {
          "base_uri": "https://localhost:8080/"
        },
        "outputId": "135f6fe1-8056-4b93-a50d-6f986ac18391"
      },
      "execution_count": null,
      "outputs": [
        {
          "output_type": "display_data",
          "data": {
            "text/plain": [
              "<Figure size 432x288 with 1 Axes>"
            ],
            "image/png": "[encoded data removed]"
          },
          "metadata": {
            "needs_background": "light"
          }
        }
      ]
    },
    {
      "cell_type": "code",
      "source": [
        "m_pred_tf = compare_target(pred_tf)\n",
        "evaluate_model(bow, pred_tf, m_pred_tf)\n"
      ],
      "metadata": {
        "id": "0YZA7ufQXzDL",
        "colab": {
          "base_uri": "https://localhost:8080/"
        },
        "outputId": "3df80693-2c76-413d-b86f-5e53c3cd7f8f"
      },
      "execution_count": null,
      "outputs": [
        {
          "output_type": "stream",
          "name": "stdout",
          "text": [
            "the silhouette_score = 0.01694288785150902\n",
            "the Kappa_score = 0.68125\n",
            "the homogeneity_score = 0.8975776477059287\n",
            "the coherence_score = 0.8927969858991472\n"
          ]
        }
      ]
    },
    {
      "cell_type": "markdown",
      "source": [
        "###EM and LDA"
      ],
      "metadata": {
        "id": "MMiwZQ_y9DEF"
      }
    },
    {
      "cell_type": "code",
      "source": [
        "from sklearn.cluster import KMeans\n",
        "from sklearn.metrics import silhouette_score\n",
        "import matplotlib.pyplot as plt\n",
        "\n",
        "bic_lda = []\n",
        "aic_lda = []\n",
        "for i in range(2, 11):\n",
        "  em = GaussianMixture(i, covariance_type='full', random_state=0).fit(DataFrame(lda_data))\n",
        "  bic_lda.append(em.bic(lda_data))\n",
        "  aic_lda.append(em.aic(lda_data))\n",
        "clear_output()"
      ],
      "metadata": {
        "id": "CTWDzsRaKr4G"
      },
      "execution_count": null,
      "outputs": []
    },
    {
      "cell_type": "code",
      "source": [
        "plt.plot(range(2, 11), bic_lda)\n",
        "plt.plot(range(2, 11), aic_lda)\n",
        "plt.title('Elbow Method')\n",
        "plt.xlabel('Number of clusters')\n",
        "plt.ylabel('BIC, AIC')\n",
        "plt.show()"
      ],
      "metadata": {
        "id": "wz0NSAUvKr4T",
        "colab": {
          "base_uri": "https://localhost:8080/",
          "height": 54
        },
        "outputId": "c62faf1e-7dd6-4fc2-9c5f-3cfa815fc70b"
      },
      "execution_count": null,
      "outputs": [
        {
          "output_type": "display_data",
          "data": {
            "text/plain": [
              "<Figure size 432x288 with 1 Axes>"
            ],
            "image/png": "[encoded data removed]"
          },
          "metadata": {
            "needs_background": "light"
          }
        }
      ]
    },
    {
      "cell_type": "code",
      "source": [
        "pred_lda = plot_em(lda_data, 5)"
      ],
      "metadata": {
        "id": "0azx_O3fpIKy",
        "colab": {
          "base_uri": "https://localhost:8080/"
        },
        "outputId": "5dc9b123-fbad-45ab-8054-33cba525800f"
      },
      "execution_count": null,
      "outputs": [
        {
          "output_type": "display_data",
          "data": {
            "text/plain": [
              "<Figure size 432x288 with 1 Axes>"
            ],
            "image/png": "[encoded data removed]"
          },
          "metadata": {
            "needs_background": "light"
          }
        }
      ]
    },
    {
      "cell_type": "code",
      "source": [
        "m_pred_lda = compare_target(pred_lda)\n",
        "evaluate_model(bow, pred_lda, m_pred_lda)\n"
      ],
      "metadata": {
        "id": "o2v70pDDYM4Q",
        "colab": {
          "base_uri": "https://localhost:8080/"
        },
        "outputId": "1823e6fe-23a0-4829-a336-e82ce1dd9f8d"
      },
      "execution_count": null,
      "outputs": [
        {
          "output_type": "stream",
          "name": "stdout",
          "text": [
            "the silhouette_score = 0.014239063536151115\n",
            "the Kappa_score = 0.75\n",
            "the homogeneity_score = 1.0\n",
            "the coherence_score = 0.8955694088967224\n"
          ]
        }
      ]
    },
    {
      "cell_type": "markdown",
      "source": [
        "###EM and Word Embedding"
      ],
      "metadata": {
        "id": "jo5NSPdu-Lcm"
      }
    },
    {
      "cell_type": "code",
      "source": [
        "from sklearn.cluster import KMeans\n",
        "from sklearn.metrics import silhouette_score\n",
        "import matplotlib.pyplot as plt\n",
        "\n",
        "bic_we = []\n",
        "aic_we = []\n",
        "for i in range(1, 11):\n",
        "  em = GaussianMixture(i, covariance_type='full', init_params = 'random').fit(DataFrame(we))\n",
        "  bic_we.append(em.bic(we))\n",
        "  aic_we.append(em.aic(we))"
      ],
      "metadata": {
        "id": "8CajLwBBLLKr"
      },
      "execution_count": null,
      "outputs": []
    },
    {
      "cell_type": "code",
      "source": [
        "plt.plot(range(1, 11), bic_we)\n",
        "plt.plot(range(1, 11), aic_we)\n",
        "plt.title('Elbow Method')\n",
        "plt.xlabel('Number of clusters')\n",
        "plt.ylabel('BIC, AIC')\n",
        "plt.show()"
      ],
      "metadata": {
        "id": "NZ9ikYUSLLK6",
        "colab": {
          "base_uri": "https://localhost:8080/"
        },
        "outputId": "04f5c1f7-7fbe-4913-eeb7-e21597208a7f"
      },
      "execution_count": null,
      "outputs": [
        {
          "output_type": "display_data",
          "data": {
            "text/plain": [
              "<Figure size 432x288 with 1 Axes>"
            ],
            "image/png": "[encoded data removed]"
          },
          "metadata": {
            "needs_background": "light"
          }
        }
      ]
    },
    {
      "cell_type": "code",
      "source": [
        "pred_we = plot_em(we, 5)"
      ],
      "metadata": {
        "id": "YXm1Ow6XtOFW",
        "colab": {
          "base_uri": "https://localhost:8080/"
        },
        "outputId": "75550969-751f-4620-87da-f192676e950a"
      },
      "execution_count": null,
      "outputs": [
        {
          "output_type": "display_data",
          "data": {
            "text/plain": [
              "<Figure size 432x288 with 1 Axes>"
            ],
            "image/png": "[encoded data removed]"
          },
          "metadata": {
            "needs_background": "light"
          }
        }
      ]
    },
    {
      "cell_type": "code",
      "source": [
        "m_pred_we = compare_target(pred_we)\n",
        "evaluate_model(bow, pred_we, m_pred_we)"
      ],
      "metadata": {
        "id": "lQ2C2LrvYdgL",
        "colab": {
          "base_uri": "https://localhost:8080/"
        },
        "outputId": "05d1d67c-88b6-423d-9e21-17e173cb5040"
      },
      "execution_count": null,
      "outputs": [
        {
          "output_type": "stream",
          "name": "stdout",
          "text": [
            "the silhouette_score = 0.025804898530326296\n",
            "the Kappa_score = 0.49\n",
            "the homogeneity_score = 0.5872451734153666\n",
            "the coherence_score = 0.8680524963924758\n"
          ]
        }
      ]
    },
    {
      "cell_type": "markdown",
      "source": [
        "##Hierarchical"
      ],
      "metadata": {
        "id": "iUBfFiJewgZH"
      }
    },
    {
      "cell_type": "code",
      "source": [
        "# import hierarchical clustering libraries\n",
        "import scipy.cluster.hierarchy as sch\n",
        "from sklearn.cluster import AgglomerativeClustering\n",
        "from sklearn.metrics.pairwise import cosine_similarity\n",
        "import matplotlib.pyplot as plt\n",
        "from scipy.cluster.hierarchy import ward, dendrogram\n",
        "from sklearn.metrics import cohen_kappa_score\n",
        "import scipy.cluster.hierarchy as sch\n",
        "from sklearn.cluster import AgglomerativeClustering\n",
        "from sklearn.manifold import TSNE\n",
        "import seaborn as sns\n",
        "from sklearn.decomposition import PCA\n",
        "from sklearn.metrics import cohen_kappa_score, silhouette_score\n",
        "from gensim.corpora.dictionary import Dictionary\n",
        "from gensim.models.ldamodel import LdaModel\n",
        "from gensim.models.coherencemodel import CoherenceModel\n",
        "!pip install plotly\n",
        "import plotly.express as xpr"
      ],
      "metadata": {
        "id": "y5kWCK9pwhKD",
        "colab": {
          "base_uri": "https://localhost:8080/"
        },
        "outputId": "4ca4e9da-b884-4b6f-abc1-d3d9b838e655"
      },
      "execution_count": null,
      "outputs": [
        {
          "output_type": "stream",
          "name": "stdout",
          "text": [
            "Looking in indexes: https://pypi.org/simple, https://us-python.pkg.dev/colab-wheels/public/simple/\n",
            "Requirement already satisfied: plotly in /usr/local/lib/python3.7/dist-packages (5.5.0)\n",
            "Requirement already satisfied: six in /usr/local/lib/python3.7/dist-packages (from plotly) (1.15.0)\n",
            "Requirement already satisfied: tenacity>=6.2.0 in /usr/local/lib/python3.7/dist-packages (from plotly) (8.0.1)\n"
          ]
        },
        {
          "output_type": "stream",
          "name": "stderr",
          "text": [
            "/usr/local/lib/python3.7/dist-packages/yaml/constructor.py:126: DeprecationWarning: Using or importing the ABCs from 'collections' instead of from 'collections.abc' is deprecated since Python 3.3,and in 3.9 it will stop working\n",
            "  if not isinstance(key, collections.Hashable):\n",
            "/usr/local/lib/python3.7/dist-packages/dask/array/numpy_compat.py:21: DeprecationWarning: `np.float` is a deprecated alias for the builtin `float`. To silence this warning, use `float` by itself. Doing this will not modify any behavior and is safe. If you specifically wanted the numpy scalar type, use `np.float64` here.\n",
            "Deprecated in NumPy 1.20; for more details and guidance: https://numpy.org/devdocs/release/1.20.0-notes.html#deprecations\n",
            "  np.divide(0.4, 1, casting=\"unsafe\", dtype=np.float),\n",
            "/usr/lib/python3.7/importlib/_bootstrap.py:219: RuntimeWarning: numpy.ufunc size changed, may indicate binary incompatibility. Expected 192 from C header, got 216 from PyObject\n",
            "  return f(*args, **kwds)\n",
            "/usr/lib/python3.7/importlib/_bootstrap.py:219: RuntimeWarning: numpy.ndarray size changed, may indicate binary incompatibility. Expected 16 from C header, got 88 from PyObject\n",
            "  return f(*args, **kwds)\n"
          ]
        }
      ]
    },
    {
      "cell_type": "code",
      "source": [
        "hc = AgglomerativeClustering(n_clusters=5, affinity = 'euclidean', linkage = 'ward')"
      ],
      "metadata": {
        "id": "z5uq3M0s8LP_"
      },
      "execution_count": null,
      "outputs": []
    },
    {
      "cell_type": "code",
      "source": [
        "def visualize_hc_tsne(y_hc,X):\n",
        "  tsne = TSNE(verbose=3,n_components=2)\n",
        "  points = tsne.fit_transform(X)\n",
        "  plt.scatter(points[y_hc ==0,0], points[y_hc == 0,1], s=100, c='red')\n",
        "  plt.scatter(points[y_hc==1,0], points[y_hc == 1,1], s=100, c='black')\n",
        "  plt.scatter(points[y_hc ==2,0], points[y_hc == 2,1], s=100, c='blue')\n",
        "  plt.scatter(points[y_hc ==3,0], points[y_hc == 3,1], s=100, c='cyan')\n",
        "  plt.scatter(points[y_hc ==3,0], points[y_hc == 3,1], s=100, c='yellow')"
      ],
      "metadata": {
        "id": "RFzp2wzu36ow"
      },
      "execution_count": null,
      "outputs": []
    },
    {
      "cell_type": "code",
      "source": [
        "def visualize_hc_pca(y_hc,X):\n",
        "  pca = PCA(n_components=2)\n",
        "  points = pca.fit_transform(X)\n",
        "  plt.scatter(points[y_hc ==0,0], points[y_hc == 0,1], s=100, c='red')\n",
        "  plt.scatter(points[y_hc==1,0], points[y_hc == 1,1], s=100, c='black')\n",
        "  plt.scatter(points[y_hc ==2,0], points[y_hc == 2,1], s=100, c='blue')\n",
        "  plt.scatter(points[y_hc ==3,0], points[y_hc == 3,1], s=100, c='cyan')\n",
        "  plt.scatter(points[y_hc ==3,0], points[y_hc == 3,1], s=100, c='yellow')"
      ],
      "metadata": {
        "id": "nOLVWkGC41ZK"
      },
      "execution_count": null,
      "outputs": []
    },
    {
      "cell_type": "code",
      "source": [
        "def plot_dendogram(data,image_name):\n",
        "  #Create dendrogram\n",
        "  linkage_matrix = ward(data) #define the linkage_matrix using ward clustering pre-computed distances\n",
        "\n",
        "  fig, ax = plt.subplots(figsize=(15, 15)) # set size\n",
        "  ax = dendrogram(linkage_matrix, orientation=\"top\")\n",
        "\n",
        "  plt.tick_params(\n",
        "      axis= 'x',          # changes apply to the x-axis\n",
        "      which='both',      # both major and minor ticks are affected\n",
        "      bottom='off',      # ticks along the bottom edge are off\n",
        "      top='off',         # ticks along the top edge are off\n",
        "      labelbottom='off')\n",
        "\n",
        "  plt.tight_layout() #show plot with tight layout\n",
        "\n",
        "  #uncomment below to save figure\n",
        "  plt.savefig(image_name, dpi=200) #save figure as ward_clusters"
      ],
      "metadata": {
        "id": "-HcL1XT15hCd"
      },
      "execution_count": null,
      "outputs": []
    },
    {
      "cell_type": "code",
      "source": [
        "def visualize_data(data):\n",
        "  tsne = TSNE(verbose=3,n_components=2)\n",
        "  x = tsne.fit_transform(data)\n",
        "  sns.scatterplot(x = x[:,0], y=x[:,1], hue=df.Book_name)"
      ],
      "metadata": {
        "id": "_hcipfWsA-1a"
      },
      "execution_count": null,
      "outputs": []
    },
    {
      "cell_type": "markdown",
      "source": [
        "###Choose The Best #Clusters"
      ],
      "metadata": {
        "id": "17P5u7JXZ9Kh"
      }
    },
    {
      "cell_type": "code",
      "source": [
        "def get_best_n_cluster(data):\n",
        "  #use silhouette score to get the best #clusters\n",
        "  score = []\n",
        "  for i in range(2,11):\n",
        "    hc_cluster = AgglomerativeClustering(n_clusters=i, affinity = 'euclidean', linkage = 'ward')\n",
        "    hc_cluster.fit_predict(data)\n",
        "    s = silhouette_score(data, hc_cluster.labels_, metric='euclidean')\n",
        "    score.append(s)\n",
        "    print('Silhouette Score: %.3f' % s)\n",
        "  plt.plot(range(2,11),score)\n",
        "  plt.xlabel(\"Number Of Clusters\")\n",
        "  plt.ylabel(\"Silhouette Score\")\n",
        "  plt.title(\"Choose The Best number Of Clusters\")"
      ],
      "metadata": {
        "id": "hQzXrUJ6aDmR"
      },
      "execution_count": null,
      "outputs": []
    },
    {
      "cell_type": "code",
      "source": [
        "def re_arange_df(y_pred):\n",
        "  y_pred = np.sort(y_pred)\n",
        "  y_pred_df = pd.DataFrame(y_pred,columns=['Predicted'])\n",
        "  print(np.unique(y_pred_df.Predicted, return_counts=True))\n",
        "  real = []\n",
        "  for i in df.Book_name:\n",
        "    if i == 'a':\n",
        "      real.append(0)\n",
        "    elif i == 'b':\n",
        "      real.append(1)\n",
        "    elif i == 'c':\n",
        "      real.append(2)\n",
        "    elif i == 'd':\n",
        "      real.append(3)\n",
        "    else:\n",
        "      real.append(4)\n",
        "  \n",
        "  y_pred_df['Real'] = np.sort(real)\n",
        "  print(np.unique(y_pred_df.Real, return_counts=True))\n",
        "\n",
        "  return y_pred_df"
      ],
      "metadata": {
        "id": "YIl001PG_EnY"
      },
      "execution_count": null,
      "outputs": []
    },
    {
      "cell_type": "markdown",
      "source": [
        "###HC_BOW"
      ],
      "metadata": {
        "id": "oZSHcACE5WzD"
      }
    },
    {
      "cell_type": "code",
      "source": [
        "bow_df = pd.read_csv(\"X_train_counts.csv\")"
      ],
      "metadata": {
        "id": "F0xbtp1d5fMV",
        "colab": {
          "base_uri": "https://localhost:8080/",
          "height": 328
        },
        "outputId": "85985bc7-e34f-47d4-fa51-e01ed25f9d28"
      },
      "execution_count": null,
      "outputs": [
        {
          "output_type": "error",
          "ename": "FileNotFoundError",
          "evalue": "ignored",
          "traceback": [
            "\u001b[0;31m---------------------------------------------------------------------------\u001b[0m",
            "\u001b[0;31mFileNotFoundError\u001b[0m                         Traceback (most recent call last)",
            "\u001b[0;32m<ipython-input-78-81f8e6eb3655>\u001b[0m in \u001b[0;36m<module>\u001b[0;34m()\u001b[0m\n\u001b[0;32m----> 1\u001b[0;31m \u001b[0mbow_df\u001b[0m \u001b[0;34m=\u001b[0m \u001b[0mpd\u001b[0m\u001b[0;34m.\u001b[0m\u001b[0mread_csv\u001b[0m\u001b[0;34m(\u001b[0m\u001b[0;34m\"X_train_counts.csv\"\u001b[0m\u001b[0;34m)\u001b[0m\u001b[0;34m\u001b[0m\u001b[0;34m\u001b[0m\u001b[0m\n\u001b[0m",
            "\u001b[0;32m/usr/local/lib/python3.7/dist-packages/pandas/util/_decorators.py\u001b[0m in \u001b[0;36mwrapper\u001b[0;34m(*args, **kwargs)\u001b[0m\n\u001b[1;32m    309\u001b[0m                     \u001b[0mstacklevel\u001b[0m\u001b[0;34m=\u001b[0m\u001b[0mstacklevel\u001b[0m\u001b[0;34m,\u001b[0m\u001b[0;34m\u001b[0m\u001b[0;34m\u001b[0m\u001b[0m\n\u001b[1;32m    310\u001b[0m                 )\n\u001b[0;32m--> 311\u001b[0;31m             \u001b[0;32mreturn\u001b[0m \u001b[0mfunc\u001b[0m\u001b[0;34m(\u001b[0m\u001b[0;34m*\u001b[0m\u001b[0margs\u001b[0m\u001b[0;34m,\u001b[0m \u001b[0;34m**\u001b[0m\u001b[0mkwargs\u001b[0m\u001b[0;34m)\u001b[0m\u001b[0;34m\u001b[0m\u001b[0;34m\u001b[0m\u001b[0m\n\u001b[0m\u001b[1;32m    312\u001b[0m \u001b[0;34m\u001b[0m\u001b[0m\n\u001b[1;32m    313\u001b[0m         \u001b[0;32mreturn\u001b[0m \u001b[0mwrapper\u001b[0m\u001b[0;34m\u001b[0m\u001b[0;34m\u001b[0m\u001b[0m\n",
            "\u001b[0;32m/usr/local/lib/python3.7/dist-packages/pandas/io/parsers/readers.py\u001b[0m in \u001b[0;36mread_csv\u001b[0;34m(filepath_or_buffer, sep, delimiter, header, names, index_col, usecols, squeeze, prefix, mangle_dupe_cols, dtype, engine, converters, true_values, false_values, skipinitialspace, skiprows, skipfooter, nrows, na_values, keep_default_na, na_filter, verbose, skip_blank_lines, parse_dates, infer_datetime_format, keep_date_col, date_parser, dayfirst, cache_dates, iterator, chunksize, compression, thousands, decimal, lineterminator, quotechar, quoting, doublequote, escapechar, comment, encoding, encoding_errors, dialect, error_bad_lines, warn_bad_lines, on_bad_lines, delim_whitespace, low_memory, memory_map, float_precision, storage_options)\u001b[0m\n\u001b[1;32m    584\u001b[0m     \u001b[0mkwds\u001b[0m\u001b[0;34m.\u001b[0m\u001b[0mupdate\u001b[0m\u001b[0;34m(\u001b[0m\u001b[0mkwds_defaults\u001b[0m\u001b[0;34m)\u001b[0m\u001b[0;34m\u001b[0m\u001b[0;34m\u001b[0m\u001b[0m\n\u001b[1;32m    585\u001b[0m \u001b[0;34m\u001b[0m\u001b[0m\n\u001b[0;32m--> 586\u001b[0;31m     \u001b[0;32mreturn\u001b[0m \u001b[0m_read\u001b[0m\u001b[0;34m(\u001b[0m\u001b[0mfilepath_or_buffer\u001b[0m\u001b[0;34m,\u001b[0m \u001b[0mkwds\u001b[0m\u001b[0;34m)\u001b[0m\u001b[0;34m\u001b[0m\u001b[0;34m\u001b[0m\u001b[0m\n\u001b[0m\u001b[1;32m    587\u001b[0m \u001b[0;34m\u001b[0m\u001b[0m\n\u001b[1;32m    588\u001b[0m \u001b[0;34m\u001b[0m\u001b[0m\n",
            "\u001b[0;32m/usr/local/lib/python3.7/dist-packages/pandas/io/parsers/readers.py\u001b[0m in \u001b[0;36m_read\u001b[0;34m(filepath_or_buffer, kwds)\u001b[0m\n\u001b[1;32m    480\u001b[0m \u001b[0;34m\u001b[0m\u001b[0m\n\u001b[1;32m    481\u001b[0m     \u001b[0;31m# Create the parser.\u001b[0m\u001b[0;34m\u001b[0m\u001b[0;34m\u001b[0m\u001b[0;34m\u001b[0m\u001b[0m\n\u001b[0;32m--> 482\u001b[0;31m     \u001b[0mparser\u001b[0m \u001b[0;34m=\u001b[0m \u001b[0mTextFileReader\u001b[0m\u001b[0;34m(\u001b[0m\u001b[0mfilepath_or_buffer\u001b[0m\u001b[0;34m,\u001b[0m \u001b[0;34m**\u001b[0m\u001b[0mkwds\u001b[0m\u001b[0;34m)\u001b[0m\u001b[0;34m\u001b[0m\u001b[0;34m\u001b[0m\u001b[0m\n\u001b[0m\u001b[1;32m    483\u001b[0m \u001b[0;34m\u001b[0m\u001b[0m\n\u001b[1;32m    484\u001b[0m     \u001b[0;32mif\u001b[0m \u001b[0mchunksize\u001b[0m \u001b[0;32mor\u001b[0m \u001b[0miterator\u001b[0m\u001b[0;34m:\u001b[0m\u001b[0;34m\u001b[0m\u001b[0;34m\u001b[0m\u001b[0m\n",
            "\u001b[0;32m/usr/local/lib/python3.7/dist-packages/pandas/io/parsers/readers.py\u001b[0m in \u001b[0;36m__init__\u001b[0;34m(self, f, engine, **kwds)\u001b[0m\n\u001b[1;32m    809\u001b[0m             \u001b[0mself\u001b[0m\u001b[0;34m.\u001b[0m\u001b[0moptions\u001b[0m\u001b[0;34m[\u001b[0m\u001b[0;34m\"has_index_names\"\u001b[0m\u001b[0;34m]\u001b[0m \u001b[0;34m=\u001b[0m \u001b[0mkwds\u001b[0m\u001b[0;34m[\u001b[0m\u001b[0;34m\"has_index_names\"\u001b[0m\u001b[0;34m]\u001b[0m\u001b[0;34m\u001b[0m\u001b[0;34m\u001b[0m\u001b[0m\n\u001b[1;32m    810\u001b[0m \u001b[0;34m\u001b[0m\u001b[0m\n\u001b[0;32m--> 811\u001b[0;31m         \u001b[0mself\u001b[0m\u001b[0;34m.\u001b[0m\u001b[0m_engine\u001b[0m \u001b[0;34m=\u001b[0m \u001b[0mself\u001b[0m\u001b[0;34m.\u001b[0m\u001b[0m_make_engine\u001b[0m\u001b[0;34m(\u001b[0m\u001b[0mself\u001b[0m\u001b[0;34m.\u001b[0m\u001b[0mengine\u001b[0m\u001b[0;34m)\u001b[0m\u001b[0;34m\u001b[0m\u001b[0;34m\u001b[0m\u001b[0m\n\u001b[0m\u001b[1;32m    812\u001b[0m \u001b[0;34m\u001b[0m\u001b[0m\n\u001b[1;32m    813\u001b[0m     \u001b[0;32mdef\u001b[0m \u001b[0mclose\u001b[0m\u001b[0;34m(\u001b[0m\u001b[0mself\u001b[0m\u001b[0;34m)\u001b[0m\u001b[0;34m:\u001b[0m\u001b[0;34m\u001b[0m\u001b[0;34m\u001b[0m\u001b[0m\n",
            "\u001b[0;32m/usr/local/lib/python3.7/dist-packages/pandas/io/parsers/readers.py\u001b[0m in \u001b[0;36m_make_engine\u001b[0;34m(self, engine)\u001b[0m\n\u001b[1;32m   1038\u001b[0m             )\n\u001b[1;32m   1039\u001b[0m         \u001b[0;31m# error: Too many arguments for \"ParserBase\"\u001b[0m\u001b[0;34m\u001b[0m\u001b[0;34m\u001b[0m\u001b[0;34m\u001b[0m\u001b[0m\n\u001b[0;32m-> 1040\u001b[0;31m         \u001b[0;32mreturn\u001b[0m \u001b[0mmapping\u001b[0m\u001b[0;34m[\u001b[0m\u001b[0mengine\u001b[0m\u001b[0;34m]\u001b[0m\u001b[0;34m(\u001b[0m\u001b[0mself\u001b[0m\u001b[0;34m.\u001b[0m\u001b[0mf\u001b[0m\u001b[0;34m,\u001b[0m \u001b[0;34m**\u001b[0m\u001b[0mself\u001b[0m\u001b[0;34m.\u001b[0m\u001b[0moptions\u001b[0m\u001b[0;34m)\u001b[0m  \u001b[0;31m# type: ignore[call-arg]\u001b[0m\u001b[0;34m\u001b[0m\u001b[0;34m\u001b[0m\u001b[0m\n\u001b[0m\u001b[1;32m   1041\u001b[0m \u001b[0;34m\u001b[0m\u001b[0m\n\u001b[1;32m   1042\u001b[0m     \u001b[0;32mdef\u001b[0m \u001b[0m_failover_to_python\u001b[0m\u001b[0;34m(\u001b[0m\u001b[0mself\u001b[0m\u001b[0;34m)\u001b[0m\u001b[0;34m:\u001b[0m\u001b[0;34m\u001b[0m\u001b[0;34m\u001b[0m\u001b[0m\n",
            "\u001b[0;32m/usr/local/lib/python3.7/dist-packages/pandas/io/parsers/c_parser_wrapper.py\u001b[0m in \u001b[0;36m__init__\u001b[0;34m(self, src, **kwds)\u001b[0m\n\u001b[1;32m     49\u001b[0m \u001b[0;34m\u001b[0m\u001b[0m\n\u001b[1;32m     50\u001b[0m         \u001b[0;31m# open handles\u001b[0m\u001b[0;34m\u001b[0m\u001b[0;34m\u001b[0m\u001b[0;34m\u001b[0m\u001b[0m\n\u001b[0;32m---> 51\u001b[0;31m         \u001b[0mself\u001b[0m\u001b[0;34m.\u001b[0m\u001b[0m_open_handles\u001b[0m\u001b[0;34m(\u001b[0m\u001b[0msrc\u001b[0m\u001b[0;34m,\u001b[0m \u001b[0mkwds\u001b[0m\u001b[0;34m)\u001b[0m\u001b[0;34m\u001b[0m\u001b[0;34m\u001b[0m\u001b[0m\n\u001b[0m\u001b[1;32m     52\u001b[0m         \u001b[0;32massert\u001b[0m \u001b[0mself\u001b[0m\u001b[0;34m.\u001b[0m\u001b[0mhandles\u001b[0m \u001b[0;32mis\u001b[0m \u001b[0;32mnot\u001b[0m \u001b[0;32mNone\u001b[0m\u001b[0;34m\u001b[0m\u001b[0;34m\u001b[0m\u001b[0m\n\u001b[1;32m     53\u001b[0m \u001b[0;34m\u001b[0m\u001b[0m\n",
            "\u001b[0;32m/usr/local/lib/python3.7/dist-packages/pandas/io/parsers/base_parser.py\u001b[0m in \u001b[0;36m_open_handles\u001b[0;34m(self, src, kwds)\u001b[0m\n\u001b[1;32m    227\u001b[0m             \u001b[0mmemory_map\u001b[0m\u001b[0;34m=\u001b[0m\u001b[0mkwds\u001b[0m\u001b[0;34m.\u001b[0m\u001b[0mget\u001b[0m\u001b[0;34m(\u001b[0m\u001b[0;34m\"memory_map\"\u001b[0m\u001b[0;34m,\u001b[0m \u001b[0;32mFalse\u001b[0m\u001b[0;34m)\u001b[0m\u001b[0;34m,\u001b[0m\u001b[0;34m\u001b[0m\u001b[0;34m\u001b[0m\u001b[0m\n\u001b[1;32m    228\u001b[0m             \u001b[0mstorage_options\u001b[0m\u001b[0;34m=\u001b[0m\u001b[0mkwds\u001b[0m\u001b[0;34m.\u001b[0m\u001b[0mget\u001b[0m\u001b[0;34m(\u001b[0m\u001b[0;34m\"storage_options\"\u001b[0m\u001b[0;34m,\u001b[0m \u001b[0;32mNone\u001b[0m\u001b[0;34m)\u001b[0m\u001b[0;34m,\u001b[0m\u001b[0;34m\u001b[0m\u001b[0;34m\u001b[0m\u001b[0m\n\u001b[0;32m--> 229\u001b[0;31m             \u001b[0merrors\u001b[0m\u001b[0;34m=\u001b[0m\u001b[0mkwds\u001b[0m\u001b[0;34m.\u001b[0m\u001b[0mget\u001b[0m\u001b[0;34m(\u001b[0m\u001b[0;34m\"encoding_errors\"\u001b[0m\u001b[0;34m,\u001b[0m \u001b[0;34m\"strict\"\u001b[0m\u001b[0;34m)\u001b[0m\u001b[0;34m,\u001b[0m\u001b[0;34m\u001b[0m\u001b[0;34m\u001b[0m\u001b[0m\n\u001b[0m\u001b[1;32m    230\u001b[0m         )\n\u001b[1;32m    231\u001b[0m \u001b[0;34m\u001b[0m\u001b[0m\n",
            "\u001b[0;32m/usr/local/lib/python3.7/dist-packages/pandas/io/common.py\u001b[0m in \u001b[0;36mget_handle\u001b[0;34m(path_or_buf, mode, encoding, compression, memory_map, is_text, errors, storage_options)\u001b[0m\n\u001b[1;32m    705\u001b[0m                 \u001b[0mencoding\u001b[0m\u001b[0;34m=\u001b[0m\u001b[0mioargs\u001b[0m\u001b[0;34m.\u001b[0m\u001b[0mencoding\u001b[0m\u001b[0;34m,\u001b[0m\u001b[0;34m\u001b[0m\u001b[0;34m\u001b[0m\u001b[0m\n\u001b[1;32m    706\u001b[0m                 \u001b[0merrors\u001b[0m\u001b[0;34m=\u001b[0m\u001b[0merrors\u001b[0m\u001b[0;34m,\u001b[0m\u001b[0;34m\u001b[0m\u001b[0;34m\u001b[0m\u001b[0m\n\u001b[0;32m--> 707\u001b[0;31m                 \u001b[0mnewline\u001b[0m\u001b[0;34m=\u001b[0m\u001b[0;34m\"\"\u001b[0m\u001b[0;34m,\u001b[0m\u001b[0;34m\u001b[0m\u001b[0;34m\u001b[0m\u001b[0m\n\u001b[0m\u001b[1;32m    708\u001b[0m             )\n\u001b[1;32m    709\u001b[0m         \u001b[0;32melse\u001b[0m\u001b[0;34m:\u001b[0m\u001b[0;34m\u001b[0m\u001b[0;34m\u001b[0m\u001b[0m\n",
            "\u001b[0;31mFileNotFoundError\u001b[0m: [Errno 2] No such file or directory: 'X_train_counts.csv'"
          ]
        }
      ]
    },
    {
      "cell_type": "code",
      "source": [
        "bow_df.dropna(inplace = True)"
      ],
      "metadata": {
        "id": "u2p7230JfMW4"
      },
      "execution_count": null,
      "outputs": []
    },
    {
      "cell_type": "code",
      "source": [
        "bow_df"
      ],
      "metadata": {
        "id": "mxBiNkuY7oqp"
      },
      "execution_count": null,
      "outputs": []
    },
    {
      "cell_type": "code",
      "source": [
        "plot_dendogram(np.array(bow_df),\"BOW_HC.png\")"
      ],
      "metadata": {
        "id": "zsARYtII6jwh"
      },
      "execution_count": null,
      "outputs": []
    },
    {
      "cell_type": "code",
      "source": [
        "get_best_n_cluster(bow_df)"
      ],
      "metadata": {
        "id": "RrPC8qZzbf52"
      },
      "execution_count": null,
      "outputs": []
    },
    {
      "cell_type": "code",
      "source": [
        "bow_y_predict_hc = hc.fit_predict(bow_df)"
      ],
      "metadata": {
        "id": "rW8V_cf1ykq5"
      },
      "execution_count": null,
      "outputs": []
    },
    {
      "cell_type": "code",
      "source": [
        "np.unique(bow_y_predict_hc, return_counts=True)"
      ],
      "metadata": {
        "id": "X9oiis5o-jn9"
      },
      "execution_count": null,
      "outputs": []
    },
    {
      "cell_type": "code",
      "source": [
        "#Visualize data before and after cluster\n",
        "plt.figure(figsize=(15,15))\n",
        "plt.subplot(2,2,1)\n",
        "visualize_hc_tsne(bow_y_predict_hc,bow_df)\n",
        "plt.subplot(2,2,2)\n",
        "visualize_hc_pca(bow_y_predict_hc,bow_df)\n",
        "plt.subplot(2,2,3)\n",
        "visualize_data(bow_df)\n",
        "plt.suptitle(\"Show The Original Data Before & After Cluster [Show The Data Using DR 'PCA' && 'TSNE'] \")"
      ],
      "metadata": {
        "id": "PdjtU2VY_TKn"
      },
      "execution_count": null,
      "outputs": []
    },
    {
      "cell_type": "code",
      "source": [
        "#Calculate cohen_kappa score\n",
        "new_df = re_arange_df(bow_y_predict_hc)\n",
        "new_df\n",
        "bow_kappa = cohen_kappa_score(new_df.Predicted,new_df.Real)\n",
        "print(bow_kappa)"
      ],
      "metadata": {
        "id": "9j3Al7sMBwZ6"
      },
      "execution_count": null,
      "outputs": []
    },
    {
      "cell_type": "code",
      "source": [
        "#silhouette_score\n",
        "score = silhouette_score(bow_df, hc.labels_, metric='euclidean')\n",
        "score"
      ],
      "metadata": {
        "id": "nxEO_hRjdogF"
      },
      "execution_count": null,
      "outputs": []
    },
    {
      "cell_type": "code",
      "source": [
        "#Coherance\n",
        "texts = df.iloc[:, 0]\n",
        "dictionary = Dictionary(texts)\n",
        "corpus = [dictionary.doc2bow(text) for text in texts]\n",
        "\n",
        "\n",
        "goodLdaModel = LdaModel(corpus=corpus, id2word=dictionary, iterations=50, num_topics=2)\n",
        "badLdaModel = LdaModel(corpus=corpus, id2word=dictionary, iterations=1, num_topics=2)\n",
        "\n",
        "cm_good = CoherenceModel(model=goodLdaModel, corpus=corpus, coherence='u_mass')\n",
        "cm_bad = CoherenceModel(model=badLdaModel, corpus=corpus, coherence='u_mass')\n",
        "\n",
        "# get coherence value\n",
        "coherence_good = cm_good.get_coherence()  \n",
        "coherence_bad = cm_bad.get_coherence() \n",
        "\n",
        "print(coherence_good, coherence_bad)"
      ],
      "metadata": {
        "id": "NW8eFOwlE3Ma"
      },
      "execution_count": null,
      "outputs": []
    },
    {
      "cell_type": "markdown",
      "source": [
        "###TF-IDF HC"
      ],
      "metadata": {
        "id": "HmrGTokMENwp"
      }
    },
    {
      "cell_type": "code",
      "source": [
        "tf_df = pd.read_csv(\"X_train_tf.csv\")"
      ],
      "metadata": {
        "id": "UIGL-ChsERh4"
      },
      "execution_count": null,
      "outputs": []
    },
    {
      "cell_type": "code",
      "source": [
        "tf_df.dropna(inplace = True)"
      ],
      "metadata": {
        "id": "aBsMLQUIB8Qx"
      },
      "execution_count": null,
      "outputs": []
    },
    {
      "cell_type": "code",
      "source": [
        "tf_df"
      ],
      "metadata": {
        "id": "Wtr97_0_E11-"
      },
      "execution_count": null,
      "outputs": []
    },
    {
      "cell_type": "code",
      "source": [
        "plot_dendogram(np.array(tf_df),\"TF_HC.png\")"
      ],
      "metadata": {
        "id": "sg2cVe4aE7Ft"
      },
      "execution_count": null,
      "outputs": []
    },
    {
      "cell_type": "code",
      "source": [
        "get_best_n_cluster(tf_df)"
      ],
      "metadata": {
        "id": "6_kgYO8Xd1Cv"
      },
      "execution_count": null,
      "outputs": []
    },
    {
      "cell_type": "code",
      "source": [
        "tf_y_predict_hc = hc.fit_predict(tf_df)"
      ],
      "metadata": {
        "id": "B38fcQ_SFFaQ"
      },
      "execution_count": null,
      "outputs": []
    },
    {
      "cell_type": "code",
      "source": [
        "np.unique(tf_y_predict_hc, return_counts=True)"
      ],
      "metadata": {
        "id": "x8vrSErVFMP_"
      },
      "execution_count": null,
      "outputs": []
    },
    {
      "cell_type": "code",
      "source": [
        "#Visualize data before and after cluster\n",
        "plt.figure(figsize=(15,15))\n",
        "plt.subplot(2,2,1)\n",
        "visualize_hc_tsne(tf_y_predict_hc,tf_df)\n",
        "plt.subplot(2,2,2)\n",
        "visualize_hc_pca(tf_y_predict_hc,tf_df)\n",
        "plt.subplot(2,2,3)\n",
        "visualize_data(tf_df)\n",
        "plt.suptitle(\"Show The Original Data Before & After Cluster [Show The Data Using DR 'PCA' && 'TSNE'] \")"
      ],
      "metadata": {
        "id": "CV9dyOfwFY65"
      },
      "execution_count": null,
      "outputs": []
    },
    {
      "cell_type": "code",
      "source": [
        "#Calculate cohen_kappa score\n",
        "new_df = re_arange_df(tf_y_predict_hc)\n",
        "new_df\n",
        "tf_kappa = cohen_kappa_score(new_df.Predicted,new_df.Real)\n",
        "print(tf_kappa)"
      ],
      "metadata": {
        "id": "pcwIqiabF23M"
      },
      "execution_count": null,
      "outputs": []
    },
    {
      "cell_type": "code",
      "source": [
        "#silhouette_score\n",
        "score = silhouette_score(tf_df, hc.labels_, metric='euclidean')\n",
        "score"
      ],
      "metadata": {
        "id": "SGUwWBrsdi6U"
      },
      "execution_count": null,
      "outputs": []
    },
    {
      "cell_type": "code",
      "source": [
        "#Coherance\n",
        "texts = df.iloc[:, 0]\n",
        "dictionary = Dictionary(texts)\n",
        "corpus = [dictionary.doc2bow(text) for text in texts]\n",
        "\n",
        "\n",
        "goodLdaModel = LdaModel(corpus=corpus, id2word=dictionary, iterations=50, num_topics=2)\n",
        "badLdaModel = LdaModel(corpus=corpus, id2word=dictionary, iterations=1, num_topics=2)\n",
        "\n",
        "cm_good = CoherenceModel(model=goodLdaModel, corpus=corpus, coherence='u_mass')\n",
        "cm_bad = CoherenceModel(model=badLdaModel, corpus=corpus, coherence='u_mass')\n",
        "\n",
        "# get coherence value\n",
        "coherence_good = cm_good.get_coherence()  \n",
        "coherence_bad = cm_bad.get_coherence() \n",
        "\n",
        "print(coherence_good, coherence_bad)"
      ],
      "metadata": {
        "id": "f8L5EWQmEzNx"
      },
      "execution_count": null,
      "outputs": []
    },
    {
      "cell_type": "markdown",
      "source": [
        "###LDA HC"
      ],
      "metadata": {
        "id": "0uBXTWEOGdSS"
      }
    },
    {
      "cell_type": "code",
      "source": [
        "lda_df = pd.read_csv(\"lda_data.csv\")"
      ],
      "metadata": {
        "id": "f6ZFsusuGgI5"
      },
      "execution_count": null,
      "outputs": []
    },
    {
      "cell_type": "code",
      "source": [
        "lda_df.dropna(inplace = True)"
      ],
      "metadata": {
        "id": "7pVP9Dm8G0JK"
      },
      "execution_count": null,
      "outputs": []
    },
    {
      "cell_type": "code",
      "source": [
        "lda_df"
      ],
      "metadata": {
        "id": "cgB9Kf_KG2z8"
      },
      "execution_count": null,
      "outputs": []
    },
    {
      "cell_type": "code",
      "source": [
        "X_train_lda = lda_df.iloc[:, :-1]\n",
        "Y_train_lda = lda_df.iloc[:, -1]"
      ],
      "metadata": {
        "id": "FJ1rvAzbG5yE"
      },
      "execution_count": null,
      "outputs": []
    },
    {
      "cell_type": "code",
      "source": [
        "plot_dendogram(np.array(X_train_lda),\"LDA_HC.png\")"
      ],
      "metadata": {
        "id": "GVNMSvwvHKLb"
      },
      "execution_count": null,
      "outputs": []
    },
    {
      "cell_type": "code",
      "source": [
        "get_best_n_cluster(X_train_lda)"
      ],
      "metadata": {
        "id": "vwmywwSsd6MH"
      },
      "execution_count": null,
      "outputs": []
    },
    {
      "cell_type": "code",
      "source": [
        "lda_y_predict_hc = hc.fit_predict(X_train_lda)"
      ],
      "metadata": {
        "id": "QBnValpLHT6Z"
      },
      "execution_count": null,
      "outputs": []
    },
    {
      "cell_type": "code",
      "source": [
        "np.unique(lda_y_predict_hc, return_counts=True)"
      ],
      "metadata": {
        "id": "lKd3cHzzHj2N"
      },
      "execution_count": null,
      "outputs": []
    },
    {
      "cell_type": "code",
      "source": [
        "#Visualize data before and after cluster\n",
        "plt.figure(figsize=(15,15))\n",
        "plt.subplot(2,2,1)\n",
        "visualize_hc_tsne(lda_y_predict_hc,X_train_lda)\n",
        "plt.subplot(2,2,2)\n",
        "visualize_hc_pca(lda_y_predict_hc,X_train_lda)\n",
        "plt.subplot(2,2,3)\n",
        "visualize_data(X_train_lda)\n",
        "plt.suptitle(\"Show The Original Data Before & After Cluster [Show The Data Using DR 'PCA' && 'TSNE'] \")"
      ],
      "metadata": {
        "id": "DP6QrIaWHvfJ"
      },
      "execution_count": null,
      "outputs": []
    },
    {
      "cell_type": "code",
      "source": [
        "#Calculate cohen_kappa score\n",
        "new_df = re_arange_df(lda_y_predict_hc)\n",
        "new_df\n",
        "lda_kappa = cohen_kappa_score(new_df.Predicted,new_df.Real)\n",
        "print(lda_kappa)"
      ],
      "metadata": {
        "id": "HXO0BHnHIohi"
      },
      "execution_count": null,
      "outputs": []
    },
    {
      "cell_type": "code",
      "source": [
        "#silhouette_score\n",
        "score = silhouette_score(X_train_lda, hc.labels_, metric='euclidean')\n",
        "score"
      ],
      "metadata": {
        "id": "vUqs0AkaZad4"
      },
      "execution_count": null,
      "outputs": []
    },
    {
      "cell_type": "code",
      "source": [
        "#Coherance\n",
        "texts = df.iloc[:, 0]\n",
        "dictionary = Dictionary(texts)\n",
        "corpus = [dictionary.doc2bow(text) for text in texts]\n",
        "\n",
        "\n",
        "goodLdaModel = LdaModel(corpus=corpus, id2word=dictionary, iterations=50, num_topics=2)\n",
        "badLdaModel = LdaModel(corpus=corpus, id2word=dictionary, iterations=1, num_topics=2)\n",
        "\n",
        "cm_good = CoherenceModel(model=goodLdaModel, corpus=corpus, coherence='u_mass')\n",
        "cm_bad = CoherenceModel(model=badLdaModel, corpus=corpus, coherence='u_mass')\n",
        "\n",
        "# get coherence value\n",
        "coherence_good = cm_good.get_coherence()  \n",
        "coherence_bad = cm_bad.get_coherence() \n",
        "\n",
        "print(coherence_good, coherence_bad)"
      ],
      "metadata": {
        "id": "iyUyTB415BsR"
      },
      "execution_count": null,
      "outputs": []
    },
    {
      "cell_type": "markdown",
      "source": [
        "###WE HC"
      ],
      "metadata": {
        "id": "UdczNYdgJe8F"
      }
    },
    {
      "cell_type": "code",
      "source": [
        "we_df = pd.read_csv(\"X_train_we.csv\")"
      ],
      "metadata": {
        "id": "_G7A7Ka_Mb0d"
      },
      "execution_count": null,
      "outputs": []
    },
    {
      "cell_type": "code",
      "source": [
        "we_df.dropna(inplace = True)"
      ],
      "metadata": {
        "id": "7gKrJtZAM6bP"
      },
      "execution_count": null,
      "outputs": []
    },
    {
      "cell_type": "code",
      "source": [
        "we_df"
      ],
      "metadata": {
        "id": "3iZBksAaM_Cu"
      },
      "execution_count": null,
      "outputs": []
    },
    {
      "cell_type": "code",
      "source": [
        "plot_dendogram(np.array(we_df),\"WE_HC.png\")"
      ],
      "metadata": {
        "id": "gorx4xyhM_lp"
      },
      "execution_count": null,
      "outputs": []
    },
    {
      "cell_type": "code",
      "source": [
        "get_best_n_cluster(we_df)"
      ],
      "metadata": {
        "id": "fmqHt1PceEoT"
      },
      "execution_count": null,
      "outputs": []
    },
    {
      "cell_type": "code",
      "source": [
        "we_y_predict_hc = hc.fit_predict(we_df)"
      ],
      "metadata": {
        "id": "5xbryrahNWKh"
      },
      "execution_count": null,
      "outputs": []
    },
    {
      "cell_type": "code",
      "source": [
        "np.unique(we_y_predict_hc, return_counts=True)"
      ],
      "metadata": {
        "id": "XlBrVXb5Na6m"
      },
      "execution_count": null,
      "outputs": []
    },
    {
      "cell_type": "code",
      "source": [
        "#Visualize data before and after cluster\n",
        "plt.figure(figsize=(15,15))\n",
        "plt.subplot(2,2,1)\n",
        "visualize_hc_tsne(we_y_predict_hc,we_df)\n",
        "plt.subplot(2,2,2)\n",
        "visualize_hc_pca(we_y_predict_hc,we_df)\n",
        "plt.subplot(2,2,3)\n",
        "visualize_data(we_df)\n",
        "plt.suptitle(\"Show The Original Data Before & After Cluster [Show The Data Using DR 'PCA' && 'TSNE'] \")"
      ],
      "metadata": {
        "id": "GvOJVCqeN5G3"
      },
      "execution_count": null,
      "outputs": []
    },
    {
      "cell_type": "code",
      "source": [
        "#Calculate cohen_kappa score\n",
        "new_df = re_arange_df(we_y_predict_hc)\n",
        "new_df\n",
        "we_kappa = cohen_kappa_score(new_df.Predicted,new_df.Real)\n",
        "print(we_kappa)"
      ],
      "metadata": {
        "id": "xwBQJBWCNiST"
      },
      "execution_count": null,
      "outputs": []
    },
    {
      "cell_type": "code",
      "source": [
        "#silhouette_score\n",
        "score = silhouette_score(we_df, hc.labels_, metric='euclidean')\n",
        "score"
      ],
      "metadata": {
        "id": "_k_uka6PdSYC"
      },
      "execution_count": null,
      "outputs": []
    },
    {
      "cell_type": "code",
      "source": [
        "#Coherance\n",
        "texts = df.iloc[:, 0]\n",
        "dictionary = Dictionary(texts)\n",
        "corpus = [dictionary.doc2bow(text) for text in texts]\n",
        "\n",
        "\n",
        "goodLdaModel = LdaModel(corpus=corpus, id2word=dictionary, iterations=50, num_topics=2)\n",
        "badLdaModel = LdaModel(corpus=corpus, id2word=dictionary, iterations=1, num_topics=2)\n",
        "\n",
        "cm_good = CoherenceModel(model=goodLdaModel, corpus=corpus, coherence='u_mass')\n",
        "cm_bad = CoherenceModel(model=badLdaModel, corpus=corpus, coherence='u_mass')\n",
        "\n",
        "# get coherence value\n",
        "coherence_good = cm_good.get_coherence()  \n",
        "coherence_bad = cm_bad.get_coherence() \n",
        "\n",
        "print(coherence_good, coherence_bad)"
      ],
      "metadata": {
        "id": "mRsmABdcFSSq"
      },
      "execution_count": null,
      "outputs": []
    },
    {
      "cell_type": "markdown",
      "source": [
        "###My Champion Model"
      ],
      "metadata": {
        "id": "xqD29ZPmTNb7"
      }
    },
    {
      "cell_type": "code",
      "source": [
        "x = [\"BOW\", \"TF-IDF\", \"LDA\", \"WE\"]\n",
        "y = [bow_kappa, tf_kappa, lda_kappa, we_kappa]\n",
        "xpr.bar(x = x, y=y, labels={\"x\":\"Feature Extraction Techniques\",\"y\":\"Kappa Score\"},color=y)"
      ],
      "metadata": {
        "id": "2tLj6HwETQs-"
      },
      "execution_count": null,
      "outputs": []
    },
    {
      "cell_type": "markdown",
      "source": [
        "#Visualizations:"
      ],
      "metadata": {
        "id": "Ak8bqJj9ietF"
      }
    },
    {
      "cell_type": "code",
      "source": [
        "import wordcloud\n",
        "import matplotlib.pyplot as plt\n",
        "wc=wordcloud.WordCloud(background_color='white',max_words=100,max_font_size=50)\n",
        "wc=wc.generate(str(df['words']))\n",
        "fig=plt.figure(num=1)\n",
        "plt.axis('off')\n",
        "plt.imshow(wc,cmap=None)\n",
        "plt.show()"
      ],
      "metadata": {
        "id": "YuQ1HQsG5l3n"
      },
      "execution_count": null,
      "outputs": []
    },
    {
      "cell_type": "code",
      "source": [
        "#Word Embedding:\n",
        "\n",
        "doc2vec = nlp[df['words'].iloc[0]]\n",
        "# pca = manifold.TSNE(perplexity=40, n_components=2, init='pca')\n",
        "pca = decomposition.PCA(n_components=2)\n",
        "reduction = pca.fit_transform(doc2vec)\n",
        "reduction.shape\n",
        "\n",
        "labels, X, x, y = [], [], [], []\n",
        "for value in reduction:\n",
        "    x.append(value[0])\n",
        "    y.append(value[1])\n",
        "## plot\n",
        "\n",
        "for t in range(0, 150):\n",
        "    X.append(reduction[t])\n",
        "    labels.append(df['words'].iloc[5][t])\n",
        "\n",
        "fig = plt.figure()\n",
        "plt.figure(figsize=(15,15))\n",
        "for i in range(len(x)):\n",
        "    plt.scatter(x[i], y[i], c=\"blue\")\n",
        "    \n",
        "    plt.annotate(labels[i], \n",
        "                 xy=(x[i],y[i]), \n",
        "                 xytext=(5,2), \n",
        "               textcoords='offset points', ha='right', va='bottom')"
      ],
      "metadata": {
        "id": "-4ya4yRPPhBs"
      },
      "execution_count": null,
      "outputs": []
    },
    {
      "cell_type": "code",
      "source": [
        "%pip install pyLDAvis\n",
        "import pyLDAvis.gensim_models\n",
        "\n",
        "pyLDAvis.enable_notebook()\n",
        "vis = pyLDAvis.gensim_models.prepare(lda1, bow_, dictionary=dictionary)\n",
        "vis"
      ],
      "metadata": {
        "id": "AB_FLBfth5sL"
      },
      "execution_count": null,
      "outputs": []
    }
  ]
}