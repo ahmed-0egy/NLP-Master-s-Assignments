{
  "nbformat": 4,
  "nbformat_minor": 0,
  "metadata": {
    "colab": {
      "name": "NLPA1V2.ipynb",
      "provenance": [],
      "collapsed_sections": []
    },
    "kernelspec": {
      "name": "python3",
      "display_name": "Python 3"
    },
    "language_info": {
      "name": "python"
    }
  },
  "cells": [
    {
      "cell_type": "markdown",
      "source": [
        "Note that this version is version one and it contains both codes of version two and version three so if you are not careful here it will not work with you but for sure version two and version three will work and this is what you want."
      ],
      "metadata": {
        "id": "Q_suPMWI5q7y"
      }
    },
    {
      "cell_type": "code",
      "source": [
        "def read_books(book_titles):\n",
        "  import nltk\n",
        "  # nltk.download('gutenberg') # uncomment this line in the first run to download the books into the environemt of colab\n",
        "  books = []\n",
        "  for title in book_titles:\n",
        "    try:\n",
        "      books.append(list(nltk.corpus.gutenberg.words(title)))\n",
        "    except:\n",
        "      raise Exception('This book does not exist! Please try again!')\n",
        "  return books"
      ],
      "metadata": {
        "id": "6lWR8tyBw2sg"
      },
      "execution_count": 9,
      "outputs": []
    },
    {
      "cell_type": "code",
      "source": [
        "def clean_books(books):\n",
        "  b_count = len(books)\n",
        "  for b_indx in range(b_count):\n",
        "    w_count = len(books[b_indx])\n",
        "    for w_indx in range(w_count):\n",
        "      books[b_indx][w_indx] = ''.join(ch for ch in books[b_indx][w_indx] if ch.isalnum())\n",
        "\n",
        "  for b_indx in range(b_count):\n",
        "    books[b_indx] = [wrd for wrd in books[b_indx] if wrd!='']"
      ],
      "metadata": {
        "id": "KIKLxpdgMLdo"
      },
      "execution_count": 10,
      "outputs": []
    },
    {
      "cell_type": "code",
      "source": [
        "def random_indx(book):\n",
        "  import random\n",
        "  indx = []\n",
        "  for i in range(0,200):\n",
        "    n = random.randint(1,len(book)-101)\n",
        "    indx.append(n)\n",
        "  return indx"
      ],
      "metadata": {
        "id": "s3mkltMJxMfE"
      },
      "execution_count": 11,
      "outputs": []
    },
    {
      "cell_type": "code",
      "source": [
        "def get_columns(books, book_titles):\n",
        "  paragraphs = []\n",
        "  for book in books:\n",
        "    indx = random_indx(book)\n",
        "    for i in indx:\n",
        "      paragraphs.append(book[i:i+100])\n",
        "\n",
        "  names = []\n",
        "  for i in range(len(books)):\n",
        "    for j in range(200):\n",
        "      names.append(book_titles[i][:-4])\n",
        "  \n",
        "  return paragraphs, names"
      ],
      "metadata": {
        "id": "gnV8vQrbR8T0"
      },
      "execution_count": 12,
      "outputs": []
    },
    {
      "cell_type": "code",
      "source": [
        "def serialize(paragraphs, names):\n",
        "  import pandas as pd\n",
        "  df = pd.DataFrame()\n",
        "  df['words'] = paragraphs\n",
        "  df['paragraph'] = df['words'].apply(lambda x:' '.join(x))\n",
        "  df['book_name'] = names\n",
        "  return df"
      ],
      "metadata": {
        "id": "nxPqwmIeypYa"
      },
      "execution_count": 13,
      "outputs": []
    },
    {
      "cell_type": "code",
      "source": [
        "def text_data_partitioning(book_titles):\n",
        "  try:\n",
        "    books = read_books(book_titles)\n",
        "  except Exception as e:\n",
        "    print(e)\n",
        "    return\n",
        "  clean_books(books)\n",
        "  paragraphs, names = get_columns(books, book_titles)\n",
        "  df = serialize(paragraphs, names)\n",
        "  return df"
      ],
      "metadata": {
        "id": "wZ3rbPBZ2ZCm"
      },
      "execution_count": 14,
      "outputs": []
    },
    {
      "cell_type": "code",
      "source": [
        "book_titles = ['austen-emma.txt', 'shakespeare-caesar.txt', 'whitman-leaves.txt']\n",
        "df = text_data_partitioning(book_titles)\n",
        "df"
      ],
      "metadata": {
        "colab": {
          "base_uri": "https://localhost:8080/",
          "height": 424
        },
        "id": "N1z-qNIIzJfZ",
        "outputId": "6bfa5142-a815-409a-c72b-d68d53256cbf"
      },
      "execution_count": 15,
      "outputs": [
        {
          "output_type": "execute_result",
          "data": {
            "text/plain": [
              "                                                 words  \\\n",
              "0    [Cole, I, really, was, ashamed, to, look, at, ...   \n",
              "1    [I, have, hardly, any, uneasiness, about, it, ...   \n",
              "2    [was, yet, able, to, shew, a, most, happy, cou...   \n",
              "3    [not, really, the, least, inclination, to, giv...   \n",
              "4    [worst, sort, of, companion, that, Emma, could...   \n",
              "..                                                 ...   \n",
              "595  [kings, But, the, sweetness, of, mercy, brew, ...   \n",
              "596  [that, scull, d, him, from, the, sloop, now, h...   \n",
              "597  [I, advance, personally, solely, to, you, Came...   \n",
              "598  [aspiration, form, in, close, ranks, They, deb...   \n",
              "599  [singing, of, the, mother, or, of, the, young,...   \n",
              "\n",
              "                                             paragraph       book_name  \n",
              "0    Cole I really was ashamed to look at our new g...     austen-emma  \n",
              "1    I have hardly any uneasiness about it Either b...     austen-emma  \n",
              "2    was yet able to shew a most happy countenance ...     austen-emma  \n",
              "3    not really the least inclination to give up th...     austen-emma  \n",
              "4    worst sort of companion that Emma could possib...     austen-emma  \n",
              "..                                                 ...             ...  \n",
              "595  kings But the sweetness of mercy brew d bitter...  whitman-leaves  \n",
              "596  that scull d him from the sloop now held in le...  whitman-leaves  \n",
              "597  I advance personally solely to you Camerado th...  whitman-leaves  \n",
              "598  aspiration form in close ranks They debouch as...  whitman-leaves  \n",
              "599  singing of the mother or of the young wife at ...  whitman-leaves  \n",
              "\n",
              "[600 rows x 3 columns]"
            ],
            "text/html": [
              "\n",
              "  <div id=\"df-c45fe8de-356a-4795-8bec-522c15ca1491\">\n",
              "    <div class=\"colab-df-container\">\n",
              "      <div>\n",
              "<style scoped>\n",
              "    .dataframe tbody tr th:only-of-type {\n",
              "        vertical-align: middle;\n",
              "    }\n",
              "\n",
              "    .dataframe tbody tr th {\n",
              "        vertical-align: top;\n",
              "    }\n",
              "\n",
              "    .dataframe thead th {\n",
              "        text-align: right;\n",
              "    }\n",
              "</style>\n",
              "<table border=\"1\" class=\"dataframe\">\n",
              "  <thead>\n",
              "    <tr style=\"text-align: right;\">\n",
              "      <th></th>\n",
              "      <th>words</th>\n",
              "      <th>paragraph</th>\n",
              "      <th>book_name</th>\n",
              "    </tr>\n",
              "  </thead>\n",
              "  <tbody>\n",
              "    <tr>\n",
              "      <th>0</th>\n",
              "      <td>[Cole, I, really, was, ashamed, to, look, at, ...</td>\n",
              "      <td>Cole I really was ashamed to look at our new g...</td>\n",
              "      <td>austen-emma</td>\n",
              "    </tr>\n",
              "    <tr>\n",
              "      <th>1</th>\n",
              "      <td>[I, have, hardly, any, uneasiness, about, it, ...</td>\n",
              "      <td>I have hardly any uneasiness about it Either b...</td>\n",
              "      <td>austen-emma</td>\n",
              "    </tr>\n",
              "    <tr>\n",
              "      <th>2</th>\n",
              "      <td>[was, yet, able, to, shew, a, most, happy, cou...</td>\n",
              "      <td>was yet able to shew a most happy countenance ...</td>\n",
              "      <td>austen-emma</td>\n",
              "    </tr>\n",
              "    <tr>\n",
              "      <th>3</th>\n",
              "      <td>[not, really, the, least, inclination, to, giv...</td>\n",
              "      <td>not really the least inclination to give up th...</td>\n",
              "      <td>austen-emma</td>\n",
              "    </tr>\n",
              "    <tr>\n",
              "      <th>4</th>\n",
              "      <td>[worst, sort, of, companion, that, Emma, could...</td>\n",
              "      <td>worst sort of companion that Emma could possib...</td>\n",
              "      <td>austen-emma</td>\n",
              "    </tr>\n",
              "    <tr>\n",
              "      <th>...</th>\n",
              "      <td>...</td>\n",
              "      <td>...</td>\n",
              "      <td>...</td>\n",
              "    </tr>\n",
              "    <tr>\n",
              "      <th>595</th>\n",
              "      <td>[kings, But, the, sweetness, of, mercy, brew, ...</td>\n",
              "      <td>kings But the sweetness of mercy brew d bitter...</td>\n",
              "      <td>whitman-leaves</td>\n",
              "    </tr>\n",
              "    <tr>\n",
              "      <th>596</th>\n",
              "      <td>[that, scull, d, him, from, the, sloop, now, h...</td>\n",
              "      <td>that scull d him from the sloop now held in le...</td>\n",
              "      <td>whitman-leaves</td>\n",
              "    </tr>\n",
              "    <tr>\n",
              "      <th>597</th>\n",
              "      <td>[I, advance, personally, solely, to, you, Came...</td>\n",
              "      <td>I advance personally solely to you Camerado th...</td>\n",
              "      <td>whitman-leaves</td>\n",
              "    </tr>\n",
              "    <tr>\n",
              "      <th>598</th>\n",
              "      <td>[aspiration, form, in, close, ranks, They, deb...</td>\n",
              "      <td>aspiration form in close ranks They debouch as...</td>\n",
              "      <td>whitman-leaves</td>\n",
              "    </tr>\n",
              "    <tr>\n",
              "      <th>599</th>\n",
              "      <td>[singing, of, the, mother, or, of, the, young,...</td>\n",
              "      <td>singing of the mother or of the young wife at ...</td>\n",
              "      <td>whitman-leaves</td>\n",
              "    </tr>\n",
              "  </tbody>\n",
              "</table>\n",
              "<p>600 rows × 3 columns</p>\n",
              "</div>\n",
              "      <button class=\"colab-df-convert\" onclick=\"convertToInteractive('df-c45fe8de-356a-4795-8bec-522c15ca1491')\"\n",
              "              title=\"Convert this dataframe to an interactive table.\"\n",
              "              style=\"display:none;\">\n",
              "        \n",
              "  <svg xmlns=\"http://www.w3.org/2000/svg\" height=\"24px\"viewBox=\"0 0 24 24\"\n",
              "       width=\"24px\">\n",
              "    <path d=\"M0 0h24v24H0V0z\" fill=\"none\"/>\n",
              "    <path d=\"M18.56 5.44l.94 2.06.94-2.06 2.06-.94-2.06-.94-.94-2.06-.94 2.06-2.06.94zm-11 1L8.5 8.5l.94-2.06 2.06-.94-2.06-.94L8.5 2.5l-.94 2.06-2.06.94zm10 10l.94 2.06.94-2.06 2.06-.94-2.06-.94-.94-2.06-.94 2.06-2.06.94z\"/><path d=\"M17.41 7.96l-1.37-1.37c-.4-.4-.92-.59-1.43-.59-.52 0-1.04.2-1.43.59L10.3 9.45l-7.72 7.72c-.78.78-.78 2.05 0 2.83L4 21.41c.39.39.9.59 1.41.59.51 0 1.02-.2 1.41-.59l7.78-7.78 2.81-2.81c.8-.78.8-2.07 0-2.86zM5.41 20L4 18.59l7.72-7.72 1.47 1.35L5.41 20z\"/>\n",
              "  </svg>\n",
              "      </button>\n",
              "      \n",
              "  <style>\n",
              "    .colab-df-container {\n",
              "      display:flex;\n",
              "      flex-wrap:wrap;\n",
              "      gap: 12px;\n",
              "    }\n",
              "\n",
              "    .colab-df-convert {\n",
              "      background-color: #E8F0FE;\n",
              "      border: none;\n",
              "      border-radius: 50%;\n",
              "      cursor: pointer;\n",
              "      display: none;\n",
              "      fill: #1967D2;\n",
              "      height: 32px;\n",
              "      padding: 0 0 0 0;\n",
              "      width: 32px;\n",
              "    }\n",
              "\n",
              "    .colab-df-convert:hover {\n",
              "      background-color: #E2EBFA;\n",
              "      box-shadow: 0px 1px 2px rgba(60, 64, 67, 0.3), 0px 1px 3px 1px rgba(60, 64, 67, 0.15);\n",
              "      fill: #174EA6;\n",
              "    }\n",
              "\n",
              "    [theme=dark] .colab-df-convert {\n",
              "      background-color: #3B4455;\n",
              "      fill: #D2E3FC;\n",
              "    }\n",
              "\n",
              "    [theme=dark] .colab-df-convert:hover {\n",
              "      background-color: #434B5C;\n",
              "      box-shadow: 0px 1px 3px 1px rgba(0, 0, 0, 0.15);\n",
              "      filter: drop-shadow(0px 1px 2px rgba(0, 0, 0, 0.3));\n",
              "      fill: #FFFFFF;\n",
              "    }\n",
              "  </style>\n",
              "\n",
              "      <script>\n",
              "        const buttonEl =\n",
              "          document.querySelector('#df-c45fe8de-356a-4795-8bec-522c15ca1491 button.colab-df-convert');\n",
              "        buttonEl.style.display =\n",
              "          google.colab.kernel.accessAllowed ? 'block' : 'none';\n",
              "\n",
              "        async function convertToInteractive(key) {\n",
              "          const element = document.querySelector('#df-c45fe8de-356a-4795-8bec-522c15ca1491');\n",
              "          const dataTable =\n",
              "            await google.colab.kernel.invokeFunction('convertToInteractive',\n",
              "                                                     [key], {});\n",
              "          if (!dataTable) return;\n",
              "\n",
              "          const docLinkHtml = 'Like what you see? Visit the ' +\n",
              "            '<a target=\"_blank\" href=https://colab.research.google.com/notebooks/data_table.ipynb>data table notebook</a>'\n",
              "            + ' to learn more about interactive tables.';\n",
              "          element.innerHTML = '';\n",
              "          dataTable['output_type'] = 'display_data';\n",
              "          await google.colab.output.renderOutput(dataTable, element);\n",
              "          const docLink = document.createElement('div');\n",
              "          docLink.innerHTML = docLinkHtml;\n",
              "          element.appendChild(docLink);\n",
              "        }\n",
              "      </script>\n",
              "    </div>\n",
              "  </div>\n",
              "  "
            ]
          },
          "metadata": {},
          "execution_count": 15
        }
      ]
    },
    {
      "cell_type": "code",
      "source": [
        "# nltk.corpus.gutenberg.fileids() #this line of code displayes names of the books we can get"
      ],
      "metadata": {
        "id": "-bxJe5qC1rRL"
      },
      "execution_count": null,
      "outputs": []
    }
  ]
}